{
  "nbformat": 4,
  "nbformat_minor": 0,
  "metadata": {
    "colab": {
      "provenance": [],
      "include_colab_link": true
    },
    "kernelspec": {
      "name": "python3",
      "display_name": "Python 3"
    },
    "language_info": {
      "name": "python"
    }
  },
  "cells": [
    {
      "cell_type": "markdown",
      "metadata": {
        "id": "view-in-github",
        "colab_type": "text"
      },
      "source": [
        "<a href=\"https://colab.research.google.com/github/KilemiD/Introduction-to-Python-for-Data-Science/blob/main/01_class_day_one.ipynb\" target=\"_parent\"><img src=\"https://colab.research.google.com/assets/colab-badge.svg\" alt=\"Open In Colab\"/></a>"
      ]
    },
    {
      "cell_type": "code",
      "execution_count": null,
      "metadata": {
        "id": "cU6HQNGc1N19",
        "colab": {
          "base_uri": "https://localhost:8080/"
        },
        "outputId": "0a803533-4b4d-4056-f1fb-3cead423f85f"
      },
      "outputs": [
        {
          "output_type": "stream",
          "name": "stdout",
          "text": [
            "My name is Kilemi\n"
          ]
        }
      ],
      "source": [
        "# Example 1\n",
        "#\n",
        "\n",
        "print(\"My name is Kilemi\")"
      ]
    },
    {
      "cell_type": "markdown",
      "source": [
        "My first python class is going on well."
      ],
      "metadata": {
        "id": "ZoZgk-QS-ZBt"
      }
    },
    {
      "cell_type": "code",
      "source": [
        "# Challenge 1:\n",
        "# Print out the sum of 44 and 22 below\n",
        "# NB: We need to see 44 + 22 in our code\n",
        "#\n",
        "\n",
        "print(44+22)"
      ],
      "metadata": {
        "colab": {
          "base_uri": "https://localhost:8080/"
        },
        "id": "puoptpuW-9PF",
        "outputId": "1e1d0e79-4504-488a-c21d-baa042753a2c"
      },
      "execution_count": null,
      "outputs": [
        {
          "output_type": "stream",
          "name": "stdout",
          "text": [
            "66\n"
          ]
        }
      ]
    },
    {
      "cell_type": "markdown",
      "source": [
        "#### Adding Comments to our Code"
      ],
      "metadata": {
        "id": "fRIqR1ZaAGPs"
      }
    },
    {
      "cell_type": "code",
      "source": [
        "# Example 2\n",
        "#\n",
        "\n",
        "print (44+22) # printing the sum of 44 and 22"
      ],
      "metadata": {
        "id": "pfHEEA70ADs9"
      },
      "execution_count": null,
      "outputs": []
    },
    {
      "cell_type": "code",
      "source": [
        "# Challenge 2:\n",
        "#\n",
        "#\n",
        "print (\"I have just began my data science journey\")"
      ],
      "metadata": {
        "id": "4ooGxWD0CFKC"
      },
      "execution_count": null,
      "outputs": []
    },
    {
      "cell_type": "code",
      "source": [
        "# Challenge 3\n",
        "# Add comments to the program below. Add comments in two lines\n",
        "#\n",
        "a = \"Hello Victor\"\n",
        "#\n",
        "print(a)"
      ],
      "metadata": {
        "id": "CqcC12p4Cp_0"
      },
      "execution_count": null,
      "outputs": []
    },
    {
      "cell_type": "code",
      "source": [
        "# Challenge 4\n",
        "# Run the code below and try to figure out what happens\n",
        "# From your understanding provide a documentation to the program\n",
        "# By documentation we mean add comments to the program, explain each line\n",
        "# of code\n",
        "\n",
        "# a list of the months of the year\n",
        "months = [\"January\", \"February\", \"March\", \"April\", \"May\", \"June\",\n",
        "          \"July\", \"August\", \"September\", \"October\", \"November\", \"December\"]\n",
        "\n",
        "# take the calendar/year months and perform a kind of operation, or task\n",
        "def showCalendar(months):\n",
        "\n",
        "  for month in months:\n",
        "    print(month) # printing the months of the year\n",
        "\n",
        "# output of the months from the preceding lines\n",
        "showCalendar(months)"
      ],
      "metadata": {
        "colab": {
          "base_uri": "https://localhost:8080/"
        },
        "id": "zEBOd0SADIH2",
        "outputId": "76b3538a-3ab4-4c5a-8402-33316be34200"
      },
      "execution_count": null,
      "outputs": [
        {
          "output_type": "stream",
          "name": "stdout",
          "text": [
            "January\n",
            "February\n",
            "March\n",
            "April\n",
            "May\n",
            "June\n",
            "July\n",
            "August\n",
            "September\n",
            "October\n",
            "November\n",
            "December\n"
          ]
        }
      ]
    },
    {
      "cell_type": "markdown",
      "source": [
        "#### Variables\n",
        "The next thing we will learn is a variable. This is simply a container that we can use to store a value. This value can be a number, a character, a string (which is just a set of characters), a list (we will learn this, a dictionary - we will also learn this), etc."
      ],
      "metadata": {
        "id": "P-EQ71rwHc3R"
      }
    },
    {
      "cell_type": "code",
      "source": [
        "# Example 3 value is a\n",
        "# we want to store the value 10 in a variable p.\n",
        "\n",
        "p = 10"
      ],
      "metadata": {
        "id": "wZY0vXrwHjZe"
      },
      "execution_count": null,
      "outputs": []
    },
    {
      "cell_type": "code",
      "source": [
        "# Example 4\n",
        "# the = sign is referred to as an assignment operator\n",
        "# the variable is left, while the value is right\n",
        "# we generate output for a variable by calling it.\n",
        "\n",
        "name = \"Naomi\"\n",
        "\n",
        "# we have assigned the value \"Naomi\" to the variable name, now we print\n",
        "print(name)"
      ],
      "metadata": {
        "colab": {
          "base_uri": "https://localhost:8080/"
        },
        "id": "87zim9QmJZbc",
        "outputId": "c51fe56b-edca-40b8-f2c9-2841e813d936"
      },
      "execution_count": null,
      "outputs": [
        {
          "output_type": "stream",
          "name": "stdout",
          "text": [
            "Naomi\n"
          ]
        }
      ]
    },
    {
      "cell_type": "code",
      "source": [
        "# Challenge 5\n",
        "# Create a variable called savings with the value 1000\n",
        "\n",
        "savings = 1000\n",
        "# then print the savings variable below this line\n",
        "print(savings)"
      ],
      "metadata": {
        "colab": {
          "base_uri": "https://localhost:8080/"
        },
        "id": "ISp7VAsyKYJu",
        "outputId": "749dd950-a58d-42ff-f93e-97ad50922dab"
      },
      "execution_count": null,
      "outputs": [
        {
          "output_type": "stream",
          "name": "stdout",
          "text": [
            "1000\n"
          ]
        }
      ]
    },
    {
      "cell_type": "code",
      "source": [
        "# Challenge 6\n",
        "# create a variable book and assign it the value I Will Marry When I Want\n",
        "\n",
        "\n",
        "# print the book below this line"
      ],
      "metadata": {
        "id": "Yu86iBr8LBOu"
      },
      "execution_count": null,
      "outputs": []
    },
    {
      "cell_type": "code",
      "source": [
        "# Challenge 7\n",
        "# have a look at below code and fix it\n",
        "\n",
        "lesson = \"Data Science\"\n",
        "\n",
        "# printing the variable lesson\n",
        "print (lesson)"
      ],
      "metadata": {
        "colab": {
          "base_uri": "https://localhost:8080/"
        },
        "id": "BKkyBANjLZzC",
        "outputId": "5aa6a416-762b-4553-fa71-64a3948a45c3"
      },
      "execution_count": null,
      "outputs": [
        {
          "output_type": "stream",
          "name": "stdout",
          "text": [
            "Data Science\n"
          ]
        }
      ]
    },
    {
      "cell_type": "code",
      "source": [
        "# Challenge 8\n",
        "# fix the colling code\n",
        "\n",
        "second number == 400;"
      ],
      "metadata": {
        "id": "DMqVSmJELkdu"
      },
      "execution_count": null,
      "outputs": []
    },
    {
      "cell_type": "markdown",
      "source": [
        "#### Operators"
      ],
      "metadata": {
        "id": "u42gyAFKOF9i"
      }
    },
    {
      "cell_type": "code",
      "source": [
        "# Example 5\n",
        "#\n",
        "\n",
        "a = 6\n",
        "\n",
        "b = 87\n",
        "\n",
        "c = 76\n",
        "\n",
        "print (a + b + c)\n",
        "print (a * b * c)\n",
        "print (a / b * c)\n",
        "print (a - b)"
      ],
      "metadata": {
        "colab": {
          "base_uri": "https://localhost:8080/"
        },
        "id": "wMTjXEtQO53D",
        "outputId": "2ff6b755-7268-4e2b-e926-f832318abc38"
      },
      "execution_count": null,
      "outputs": [
        {
          "output_type": "stream",
          "name": "stdout",
          "text": [
            "169\n",
            "39672\n",
            "5.241379310344827\n",
            "-81\n"
          ]
        }
      ]
    },
    {
      "cell_type": "code",
      "source": [
        "# Example 6\n",
        "# What would happen if we assigned the value of a + b to a\n",
        "# try come up with an answer in your mind\n",
        "\n",
        "a = a + b\n",
        "\n",
        "print(a)\n"
      ],
      "metadata": {
        "colab": {
          "base_uri": "https://localhost:8080/"
        },
        "id": "V5iXUoiAPo5K",
        "outputId": "1bba2cb1-16c7-4c51-e3d2-d00d87ed4fb5"
      },
      "execution_count": null,
      "outputs": [
        {
          "output_type": "stream",
          "name": "stdout",
          "text": [
            "702\n"
          ]
        }
      ]
    },
    {
      "cell_type": "code",
      "source": [
        "print(a)"
      ],
      "metadata": {
        "colab": {
          "base_uri": "https://localhost:8080/"
        },
        "id": "qHzEmQslRA5v",
        "outputId": "b2042706-e1b1-4824-b843-8a3549f096cc"
      },
      "execution_count": null,
      "outputs": [
        {
          "output_type": "stream",
          "name": "stdout",
          "text": [
            "93\n"
          ]
        }
      ]
    },
    {
      "cell_type": "code",
      "source": [
        "# Example 7\n",
        "# the increment operator\n",
        "\n",
        "x = 40\n",
        "y =51\n"
      ],
      "metadata": {
        "colab": {
          "base_uri": "https://localhost:8080/"
        },
        "id": "86pmLUTmRcow",
        "outputId": "54cf8bed-0de7-4585-bed9-72ae40bb9d91"
      },
      "execution_count": null,
      "outputs": [
        {
          "output_type": "stream",
          "name": "stdout",
          "text": [
            "91\n"
          ]
        }
      ]
    },
    {
      "cell_type": "code",
      "source": [
        "y += x\n",
        "\n",
        "print (y)"
      ],
      "metadata": {
        "colab": {
          "base_uri": "https://localhost:8080/"
        },
        "id": "knGLnZmrR2hk",
        "outputId": "ed0b2a73-6656-4244-9c7d-070fc60867ec"
      },
      "execution_count": null,
      "outputs": [
        {
          "output_type": "stream",
          "name": "stdout",
          "text": [
            "251\n"
          ]
        }
      ]
    },
    {
      "cell_type": "code",
      "source": [
        "# Example 8\n",
        "\n",
        "z = 50\n",
        "k =4\n"
      ],
      "metadata": {
        "id": "gg2g7TZMSk7Y"
      },
      "execution_count": null,
      "outputs": []
    },
    {
      "cell_type": "code",
      "source": [
        "# decrement operator\n",
        "k -= 50\n",
        "\n",
        "print(k)"
      ],
      "metadata": {
        "colab": {
          "base_uri": "https://localhost:8080/"
        },
        "id": "5DnPZOB2St16",
        "outputId": "db1269a7-062c-41de-a317-69db056864db"
      },
      "execution_count": null,
      "outputs": [
        {
          "output_type": "stream",
          "name": "stdout",
          "text": [
            "-396\n"
          ]
        }
      ]
    },
    {
      "cell_type": "code",
      "source": [
        "# Example 9\n",
        "# the exponent operator\n",
        "\n",
        "# how do we get the value of 4 squared\n",
        "\n",
        "print (4 ** 3) # the double ** denotes the exponent(power)"
      ],
      "metadata": {
        "colab": {
          "base_uri": "https://localhost:8080/"
        },
        "id": "88QXoYqjTO2n",
        "outputId": "0361fa3c-d100-413b-9b23-25221dcaeb0f"
      },
      "execution_count": null,
      "outputs": [
        {
          "output_type": "stream",
          "name": "stdout",
          "text": [
            "64\n"
          ]
        }
      ]
    },
    {
      "cell_type": "code",
      "source": [
        "# Example 10\n",
        "# the modulo operator\n",
        "\n",
        "print (18 % 7)"
      ],
      "metadata": {
        "colab": {
          "base_uri": "https://localhost:8080/"
        },
        "id": "8ovHLF_zTuWZ",
        "outputId": "d8dd2ca9-f347-4c1b-df4f-c2ad607c86f0"
      },
      "execution_count": null,
      "outputs": [
        {
          "output_type": "stream",
          "name": "stdout",
          "text": [
            "4\n"
          ]
        }
      ]
    },
    {
      "cell_type": "code",
      "source": [
        "# Challenge 9\n",
        "# Three persons have three notes of Ksh.50, Ksh.100 and Ksh.500.\n",
        "# Create three variables; person 1, person 2 and person 3 then\n",
        "# Find out the average of their money and display it below.\n",
        "#\n",
        "\n",
        "OUR CODE GOES HERE"
      ],
      "metadata": {
        "id": "htQo0N63UIhw"
      },
      "execution_count": null,
      "outputs": []
    },
    {
      "cell_type": "code",
      "source": [
        "# Challenge 10\n",
        "# An online shop sells designer jeans and t-shirts.\n",
        "# Each jeans costs Ksh. 4500 and t-shirt costs Ksh. 2500.\n",
        "# Calculate the cost below if you were to buy 3 pairs of jeans and 6 t-shirts\n",
        "# using variables and operators.\n",
        "#\n",
        "\n",
        "# creating the tshirt and jeans cost variables\n",
        "jeans = 4500\n",
        "tshirt = 2500\n",
        "\n",
        "# defining the cost as a variable\n",
        "cost = jeans * 3 + tshirt * 6\n",
        "\n",
        "# view the output of the cost\n",
        "print (cost)"
      ],
      "metadata": {
        "id": "yUgd4mrpUNwU",
        "colab": {
          "base_uri": "https://localhost:8080/"
        },
        "outputId": "04077349-2499-4e61-cd50-7c607d0c6b56"
      },
      "execution_count": null,
      "outputs": [
        {
          "output_type": "stream",
          "name": "stdout",
          "text": [
            "28500\n"
          ]
        }
      ]
    },
    {
      "cell_type": "code",
      "source": [
        "# Challenge 11\n",
        "# We have Ksh 1000, which you invest with a 10% return each year.\n",
        "# After one year, it's 1000 × 1.1 = 1100 shillings, and after two years\n",
        "# it's 1000 × 1.1 × 1.1 = 121.\n",
        "# Now, write code below to calculate how much money\n",
        "# you would end up with after 7 years.\n",
        "# How much is your Ksh. 1000 worth after 15 years?\n",
        "# ----------\n",
        "# Hint: Instead of calculating with the actual values, you can use variables instead.\n",
        "# The savings variable you've created in the previous exercise represents the Ksh 1000 you started with.\n",
        "# It's up to you to create a new variable to represent 1.1 and then redo the calculations!\n",
        "# ----------\n",
        "\n",
        "# We can recreate the savings variable that we will use below\n",
        "#\n",
        "savings = 1000\n",
        "\n",
        "# and create a growth_multiplier variable that is equal to 1.1.\n",
        "OUR CODE GOES HERE\n",
        "\n",
        "# Then create a result variable and equal it to the amount of money you saved after 7 years.\n",
        "\n",
        "\n",
        "# Then print out the value of result below"
      ],
      "metadata": {
        "id": "fH5BmXRaUUDx"
      },
      "execution_count": null,
      "outputs": []
    },
    {
      "cell_type": "markdown",
      "source": [
        "#### Inputs"
      ],
      "metadata": {
        "id": "WZF5Nt71Fy3p"
      }
    },
    {
      "cell_type": "code",
      "source": [
        "# Example 11\n",
        "# programs\n",
        "password = input(\"Enter your password: \")\n",
        "\n",
        "print(password)"
      ],
      "metadata": {
        "colab": {
          "base_uri": "https://localhost:8080/"
        },
        "id": "Xsod7a5CFpnt",
        "outputId": "3a7e8c53-31d5-4df7-cae1-03ee0da1e9fe"
      },
      "execution_count": null,
      "outputs": [
        {
          "output_type": "stream",
          "name": "stdout",
          "text": [
            "Enter your password: 1password\n",
            "1password\n"
          ]
        }
      ]
    },
    {
      "cell_type": "code",
      "source": [
        "# Challenge 12\n",
        "\n",
        "# Read up on Password hashing techniques"
      ],
      "metadata": {
        "id": "PaReT8jDHO5f"
      },
      "execution_count": null,
      "outputs": []
    },
    {
      "cell_type": "code",
      "source": [
        "# Example 12\n",
        "#\n",
        "\n",
        "name = input(\"Enter your name: \")\n",
        "\n",
        "print (\"Guten habend\", name)"
      ],
      "metadata": {
        "colab": {
          "base_uri": "https://localhost:8080/"
        },
        "id": "w_EkmrnPIb7H",
        "outputId": "75c3f4a8-776d-407d-b927-043c603d3f60"
      },
      "execution_count": null,
      "outputs": [
        {
          "output_type": "stream",
          "name": "stdout",
          "text": [
            "Enter your name: Zubimendi\n",
            "Guten habend Zubimendi\n"
          ]
        }
      ]
    },
    {
      "cell_type": "code",
      "source": [
        "# Example 13\n",
        "#\n",
        "\n",
        "g = input(\"Enter a number: \")\n",
        "g = int(g) # denotes an integer\n",
        "\n",
        "print (g + 10)"
      ],
      "metadata": {
        "colab": {
          "base_uri": "https://localhost:8080/"
        },
        "id": "vgQqyPGOJEp1",
        "outputId": "f1ed3a94-9fa2-42b8-b859-280bc4e9e0d9"
      },
      "execution_count": null,
      "outputs": [
        {
          "output_type": "stream",
          "name": "stdout",
          "text": [
            "Enter a number: 10\n",
            "20\n"
          ]
        }
      ]
    },
    {
      "cell_type": "code",
      "source": [
        "# Example 14\n",
        "# Lets get the sum of two numbers from a user's input\n",
        "#\n",
        "\n",
        "x = input('Enter the first number: ')\n",
        "x = int(x)\n",
        "y = input('Enter the second number: ')\n",
        "y = int(y)\n",
        "\n",
        "print(x + y)"
      ],
      "metadata": {
        "colab": {
          "base_uri": "https://localhost:8080/"
        },
        "id": "7jO0azwFKB84",
        "outputId": "cc190c92-397f-4ff8-bb9e-3d93c01299a2"
      },
      "execution_count": null,
      "outputs": [
        {
          "output_type": "stream",
          "name": "stdout",
          "text": [
            "Enter the first number: 5\n",
            "Enter the second number: 6\n",
            "11\n"
          ]
        }
      ]
    },
    {
      "cell_type": "code",
      "source": [
        "# Example 15\n",
        "#\n",
        "\n",
        "note = input(\"Enter you note value: \")\n",
        "note = int(500)\n",
        "change = note - 50\n",
        "den_100 = int(change / 100)\n",
        "den_50 = int ((change % 100) / 50)\n",
        "\n",
        "# output the notes the machine should give us\n",
        "print (\"Ksh 100 notes:\", den_100, \"\\n Ksh 50 notes\", den_50)"
      ],
      "metadata": {
        "colab": {
          "base_uri": "https://localhost:8080/"
        },
        "id": "UNS2OSKXMe7u",
        "outputId": "2bad91a7-374e-4142-f719-8efc0678724b"
      },
      "execution_count": null,
      "outputs": [
        {
          "output_type": "stream",
          "name": "stdout",
          "text": [
            "Enter you note value: 500\n",
            "Ksh 100 notes: 4 \n",
            " Ksh 50 notes 1\n"
          ]
        }
      ]
    },
    {
      "cell_type": "code",
      "source": [
        "# Challenge 13\n",
        "# Given a certain column of data that has radius, a data scientist would like\n",
        "# to compute the volume the respective cylinder and save the result to a new column.\n",
        "# Thus, write a program that reads the radius of cylinder, along with its height\n",
        "# from the user to calculate the volume in the console.\n",
        "#\n",
        "\n",
        "#OUR CODE GOES HERE\n",
        "\n",
        "#Hint: Volume = pi*r**2*h"
      ],
      "metadata": {
        "id": "l8BxA6sRPyIb"
      },
      "execution_count": null,
      "outputs": []
    },
    {
      "cell_type": "code",
      "source": [
        "# Challenge 14\n",
        "# Many people around the world think about their height in feet and inches\n",
        "# even here in Africa where many countries use the metric system.\n",
        "# Write a program reads the height in metres then converts it to\n",
        "# feet and inches. The program should display the equivalent\n",
        "# height in feet and inches.\n",
        "# NB: You can look up the necessary conversion factors on the web.\n",
        "#\n",
        "\n",
        "# try the teacher's height which is 1.86 metres\n",
        "# OUR CODE GOES HERE\n",
        "\n",
        "#height_metres = input(\"Enter your height in metres: \")\n",
        "#height_metres = float(height_metres)"
      ],
      "metadata": {
        "id": "AgjQFZpHQAQP"
      },
      "execution_count": null,
      "outputs": []
    },
    {
      "cell_type": "markdown",
      "source": [
        "### Data Types"
      ],
      "metadata": {
        "id": "WZk06igFQZRm"
      }
    },
    {
      "cell_type": "code",
      "source": [
        "#Example 16\n",
        "\n",
        "age = [30,16,20] #integer data types in age\n",
        "mpesa = [0.97, 17.35, 50.2] # floats\n",
        "names = [\"Kilemi Daniel\", \"Naomi\", \"Victor\"] # strings\n",
        "premier_league = [True, False, False] #boolean"
      ],
      "metadata": {
        "id": "W-1HtfWWQcEm"
      },
      "execution_count": null,
      "outputs": []
    },
    {
      "cell_type": "code",
      "source": [
        "# Example 17\n",
        "# integer data type\n",
        "\n",
        "x = int(50) # int function function denotes an integer\n",
        "print(x)"
      ],
      "metadata": {
        "colab": {
          "base_uri": "https://localhost:8080/"
        },
        "id": "E-mHNDcjSnwU",
        "outputId": "cd9fa3c2-5fb8-473c-b2f1-18213216f4eb"
      },
      "execution_count": null,
      "outputs": [
        {
          "output_type": "stream",
          "name": "stdout",
          "text": [
            "50\n"
          ]
        }
      ]
    },
    {
      "cell_type": "code",
      "source": [
        "# Example 18\n",
        "# float data type\n",
        "\n",
        "a = float(3.142) # pi is a float\n",
        "\n",
        "print(a)"
      ],
      "metadata": {
        "colab": {
          "base_uri": "https://localhost:8080/"
        },
        "id": "hcvop99oS7LZ",
        "outputId": "e373cee3-7db3-4374-cb83-9ef972f383a6"
      },
      "execution_count": null,
      "outputs": [
        {
          "output_type": "stream",
          "name": "stdout",
          "text": [
            "3.142\n"
          ]
        }
      ]
    },
    {
      "cell_type": "code",
      "source": [
        "# Example 19\n",
        "#\n",
        "\n",
        "class_word = \"This is Epic Data Science\"\n",
        "print(class_word)"
      ],
      "metadata": {
        "colab": {
          "base_uri": "https://localhost:8080/"
        },
        "id": "A51XhN3LTHUm",
        "outputId": "ff2a739f-4d9d-4f60-f02f-9787d686459d"
      },
      "execution_count": null,
      "outputs": [
        {
          "output_type": "stream",
          "name": "stdout",
          "text": [
            "This is Epic Data Science\n"
          ]
        }
      ]
    },
    {
      "cell_type": "markdown",
      "source": [
        "#### Finding Out Types"
      ],
      "metadata": {
        "id": "RZx32eB4XfPD"
      }
    },
    {
      "cell_type": "code",
      "source": [
        "# Example 20\n",
        "# Find out the type of 50\n",
        "\n",
        "type(50) # using the type function"
      ],
      "metadata": {
        "colab": {
          "base_uri": "https://localhost:8080/"
        },
        "id": "h5v072QlXjd1",
        "outputId": "8115c0d8-1d9e-468f-c75c-0717c2f7a339"
      },
      "execution_count": null,
      "outputs": [
        {
          "output_type": "execute_result",
          "data": {
            "text/plain": [
              "int"
            ]
          },
          "metadata": {},
          "execution_count": 23
        }
      ]
    },
    {
      "cell_type": "code",
      "source": [
        "# Example 21\n",
        "\n",
        "type (3.142)"
      ],
      "metadata": {
        "colab": {
          "base_uri": "https://localhost:8080/"
        },
        "id": "5LMpJEheX1_l",
        "outputId": "3234c587-753e-4991-c6ef-ec6b708c2c7d"
      },
      "execution_count": null,
      "outputs": [
        {
          "output_type": "execute_result",
          "data": {
            "text/plain": [
              "float"
            ]
          },
          "metadata": {},
          "execution_count": 24
        }
      ]
    },
    {
      "cell_type": "code",
      "source": [
        "# Example 22\n",
        "\n",
        "type (\"Epic Learn\")"
      ],
      "metadata": {
        "colab": {
          "base_uri": "https://localhost:8080/"
        },
        "id": "fDIWgSGXX8Qz",
        "outputId": "dfcba798-b934-419e-b7fd-1927f9af1547"
      },
      "execution_count": null,
      "outputs": [
        {
          "output_type": "execute_result",
          "data": {
            "text/plain": [
              "str"
            ]
          },
          "metadata": {},
          "execution_count": 25
        }
      ]
    },
    {
      "cell_type": "code",
      "source": [
        "# Challenge 16\n",
        "# What is the data type of the result of: 16 / 4?\n",
        "#\n",
        "\n",
        "type(16/4)"
      ],
      "metadata": {
        "colab": {
          "base_uri": "https://localhost:8080/"
        },
        "id": "rZz9QGYRYQjw",
        "outputId": "54d0201a-3c63-4943-f78f-6f7f4d12c6d3"
      },
      "execution_count": null,
      "outputs": [
        {
          "output_type": "execute_result",
          "data": {
            "text/plain": [
              "float"
            ]
          },
          "metadata": {},
          "execution_count": 26
        }
      ]
    },
    {
      "cell_type": "code",
      "source": [
        "# Challenge 17\n",
        "# What is the type of the result of: 6 // 2? (Note the double slash //.)\n",
        "#\n",
        "\n",
        "type(6//2)"
      ],
      "metadata": {
        "colab": {
          "base_uri": "https://localhost:8080/"
        },
        "id": "KUGaQpSIYbFu",
        "outputId": "38ef3bb6-35cc-495e-b12f-4f19b80b7e02"
      },
      "execution_count": null,
      "outputs": [
        {
          "output_type": "execute_result",
          "data": {
            "text/plain": [
              "int"
            ]
          },
          "metadata": {},
          "execution_count": 27
        }
      ]
    },
    {
      "cell_type": "code",
      "source": [
        "# Challenge 18\n",
        "# What do you think is the output of this cell?\n",
        "# Think about it then run it.\n",
        "#\n",
        "type(3.2) == float"
      ],
      "metadata": {
        "id": "bLJeke3uYlJw"
      },
      "execution_count": null,
      "outputs": []
    },
    {
      "cell_type": "code",
      "source": [
        "# Example 23\n",
        "\n",
        "True"
      ],
      "metadata": {
        "colab": {
          "base_uri": "https://localhost:8080/"
        },
        "id": "u7d7dCYZaj6V",
        "outputId": "8e16ddf4-c92c-438b-a587-43f7a1c4ed3a"
      },
      "execution_count": null,
      "outputs": [
        {
          "output_type": "execute_result",
          "data": {
            "text/plain": [
              "True"
            ]
          },
          "metadata": {},
          "execution_count": 28
        }
      ]
    },
    {
      "cell_type": "code",
      "source": [
        "# Example 24\n",
        "False"
      ],
      "metadata": {
        "colab": {
          "base_uri": "https://localhost:8080/"
        },
        "id": "yvFVKXOSavHC",
        "outputId": "7fed36b8-1b12-448b-b733-79b9a27eb656"
      },
      "execution_count": null,
      "outputs": [
        {
          "output_type": "execute_result",
          "data": {
            "text/plain": [
              "False"
            ]
          },
          "metadata": {},
          "execution_count": 29
        }
      ]
    },
    {
      "cell_type": "code",
      "source": [
        "# Example 25\n",
        "type(False)"
      ],
      "metadata": {
        "colab": {
          "base_uri": "https://localhost:8080/"
        },
        "id": "3Up-MDEYa0k1",
        "outputId": "e2eb1cd8-b515-4589-9e24-f7bec57b462f"
      },
      "execution_count": null,
      "outputs": [
        {
          "output_type": "execute_result",
          "data": {
            "text/plain": [
              "bool"
            ]
          },
          "metadata": {},
          "execution_count": 30
        }
      ]
    },
    {
      "cell_type": "markdown",
      "source": [
        "### Conditional Statements"
      ],
      "metadata": {
        "id": "Bx1oVPN1AGYR"
      }
    },
    {
      "cell_type": "code",
      "source": [
        "# Example 26\n",
        "# the if statement\n",
        "#\n",
        "\n",
        "x = 200\n",
        "y = 100\n",
        "if y < x:\n",
        "  print(\"y is less than x\")"
      ],
      "metadata": {
        "colab": {
          "base_uri": "https://localhost:8080/"
        },
        "id": "8jJNU0VIAKHs",
        "outputId": "1c542ecd-7e2b-4acc-8ea6-39bb7ca263fc"
      },
      "execution_count": null,
      "outputs": [
        {
          "output_type": "stream",
          "name": "stdout",
          "text": [
            "y is less than x\n"
          ]
        }
      ]
    },
    {
      "cell_type": "code",
      "source": [
        "# Example 27\n",
        "# using inputs for the if statement\n",
        "x = input(\"Enter a value for x: \")\n",
        "y = input(\"Enter a value for y: \")\n",
        "if y <x:\n",
        "  print(\"y is less than x\")"
      ],
      "metadata": {
        "colab": {
          "base_uri": "https://localhost:8080/"
        },
        "id": "hOr8alaaA87v",
        "outputId": "bbc8ba4c-0c7b-4799-d631-a5c5241278ce"
      },
      "execution_count": null,
      "outputs": [
        {
          "output_type": "stream",
          "name": "stdout",
          "text": [
            "Enter a value for x: 40\n",
            "Enter a value for y: 20\n",
            "y is less than x\n"
          ]
        }
      ]
    },
    {
      "cell_type": "code",
      "source": [
        "# Example 28 (else if)\n",
        "# elif keyword that tries another condition if the first one is not met\n",
        "\n",
        "x = 33\n",
        "y = 34\n",
        "\n",
        "if y < x:\n",
        "  print (\"y is less than x\")\n",
        "elif x == y:\n",
        "  print (\"x and y are equal\")\n",
        "elif y > x:\n",
        "  print (\"y is greater than x\")"
      ],
      "metadata": {
        "colab": {
          "base_uri": "https://localhost:8080/"
        },
        "id": "f__JCcjxBM6d",
        "outputId": "d1cf65a2-4c03-4b68-b194-c14412035537"
      },
      "execution_count": null,
      "outputs": [
        {
          "output_type": "stream",
          "name": "stdout",
          "text": [
            "y is greater than x\n"
          ]
        }
      ]
    },
    {
      "cell_type": "code",
      "source": [
        "# Example 29\n",
        "# write a program that takes an integer and then tells us\n",
        "# whether the integer is odd or even\n",
        "\n",
        "x = input(\"Enter an integer: \")\n",
        "x = int(x)\n",
        "if (x % 2) != 0: # the (i=) denotes is not equal to\n",
        "  print (\"x is odd\")\n",
        "elif (x % 2) == 0: # the (==) indicates explicit results\n",
        "  print (\"x is even\")"
      ],
      "metadata": {
        "colab": {
          "base_uri": "https://localhost:8080/"
        },
        "id": "eVfFoDKdDPfm",
        "outputId": "088407ce-c85b-48e2-96c9-61f0c7645a76"
      },
      "execution_count": null,
      "outputs": [
        {
          "output_type": "stream",
          "name": "stdout",
          "text": [
            "Enter an integer: 19\n",
            "x is odd\n"
          ]
        }
      ]
    },
    {
      "cell_type": "code",
      "source": [
        "# Challenge 15\n",
        "# Can you write a program that has a third option to detect prime numbers?\n",
        "#\n",
        "\n",
        "x = input(\"Enter an integer: \")\n",
        "x = int(x)\n",
        "if (x % 2) != 0: # the (i=) denotes is not equal to\n",
        "  print (\"x is odd\")\n",
        "elif (x % 2) == 0: # the (==) indicates explicit results\n",
        "  print (\"x is even\")\n",
        "# prime numbers are divisible by one and itself 2,3,5,7,11,13,17,19\n",
        "OUR CODE GOES HERE"
      ],
      "metadata": {
        "colab": {
          "base_uri": "https://localhost:8080/"
        },
        "id": "DhqoAarrE_4d",
        "outputId": "d90c033e-a57d-409c-a5eb-30c97e590715"
      },
      "execution_count": null,
      "outputs": [
        {
          "output_type": "stream",
          "name": "stdout",
          "text": [
            "Enter an integer: 3\n",
            "x is odd\n"
          ]
        }
      ]
    },
    {
      "cell_type": "code",
      "source": [
        "# Challenge 16\n",
        "# We now write a program that reads a input from a user.\n",
        "# If the user enters a, e, i, o or u then our program should\n",
        "# display a message indicating that the entered letter is a vowel.\n",
        "# If our user enters y then our program should display a message\n",
        "# indicating that sometimes y is a vowel, and sometimes y is a consonant.\n",
        "# Otherwise our program should display a message indicating that the\n",
        "# letter is a consonant.\n",
        "#\n",
        "OUR CODE GOES HERE"
      ],
      "metadata": {
        "id": "28hmVQU2GnUY"
      },
      "execution_count": null,
      "outputs": []
    },
    {
      "cell_type": "code",
      "source": [
        "# Challenge 17\n",
        "# Let's now also write another program that asks for a number and computes the\n",
        "# square of that number. If the square is 100 or greater, print the squared value\n",
        "# and the word 'big'. Otherwise if the square is 50 or greater, print the\n",
        "# squared value and the word 'medium'. Otherwise just print 'too small to bother with'.\n",
        "# Hint: To compute squared, use x*x or x**2\n",
        "#\n",
        "\n",
        "x = input(\"Enter a number: \")\n",
        "x = int(x)\n",
        "y = x ** 2\n",
        "if y >= 100:\n",
        "  print (y, \"is big\")\n",
        "elif y >= 50:\n",
        "  print (y, \"is medium\")\n",
        "elif (y < 50):\n",
        "  print (y, \"is too small to bother\")"
      ],
      "metadata": {
        "colab": {
          "base_uri": "https://localhost:8080/"
        },
        "id": "ZGxC9zOTG2Xq",
        "outputId": "2f86a0e0-6e18-4335-bedb-4fe95286db11"
      },
      "execution_count": null,
      "outputs": [
        {
          "output_type": "stream",
          "name": "stdout",
          "text": [
            "Enter a number: 12\n",
            "144 is big\n"
          ]
        }
      ]
    },
    {
      "cell_type": "markdown",
      "source": [
        "### Else"
      ],
      "metadata": {
        "id": "t3Q4UOiJI6xN"
      }
    },
    {
      "cell_type": "code",
      "source": [
        "# Example 30\n",
        "x = input(\"Enter a number: \")\n",
        "x = int(x)\n",
        "y = x ** 2\n",
        "if y >= 100:\n",
        "  print (y, \"is big\")\n",
        "else:\n",
        "  print (y, \"is small\")"
      ],
      "metadata": {
        "id": "3IJ_jIrvI8ho",
        "colab": {
          "base_uri": "https://localhost:8080/"
        },
        "outputId": "f63d9d85-87aa-4073-e609-38b80b70b170"
      },
      "execution_count": null,
      "outputs": [
        {
          "output_type": "stream",
          "name": "stdout",
          "text": [
            "Enter a number: 5\n",
            "25 is small\n"
          ]
        }
      ]
    },
    {
      "cell_type": "code",
      "source": [
        "# Example 31\n",
        "temp_outside = float(input('Enter the temperature outside: '))\n",
        "\n",
        "if temp_outside >= 26:\n",
        "  print (\"Do not wear a sweater\")\n",
        "else:\n",
        "  print (\"Wear a sweater\")"
      ],
      "metadata": {
        "id": "Xp9YnPhHJcL8",
        "colab": {
          "base_uri": "https://localhost:8080/"
        },
        "outputId": "29a1fbdd-1dd4-4f92-a29f-9233e12c32b0"
      },
      "execution_count": null,
      "outputs": [
        {
          "output_type": "stream",
          "name": "stdout",
          "text": [
            "Enter the temperature outside: 15\n",
            "Wear a sweater\n"
          ]
        }
      ]
    },
    {
      "cell_type": "code",
      "source": [
        "# Challenge 18\n",
        "# Let's write a program that reads a month and day from the user.\n",
        "# If the month and day matches one of the holidays listed previously\n",
        "# then the program should display the Kenyan holiday’s name.\n",
        "# Otherwise our program should indicate that the entered month and day\n",
        "# do not correspond to a holiday. (You should use the else keyword)\n",
        "#\n",
        "\n",
        "# define the holidays in kenya\n",
        "kenya_holidays = {\n",
        "    (1,6) : \"Madaraka Day\",\n",
        "    (20,10) : \"Mashujaa Day\",\n",
        "    (12,12) : \"Jamhuri Day\"\n",
        "}\n",
        "\n",
        "# ask for input from the user\n",
        "day = int(input(\"Enter the day of the month: \"))\n",
        "month = int(input(\"Enter the month: \"))\n",
        "\n",
        "# check whether the input corresponds to a holiday\n",
        "if (day, month) in kenya_holidays:\n",
        "  print(f\"The day entered is {kenya_holidays[(day,month)]}\")\n",
        "else:\n",
        "  print(\"Today is not a holiday, work!\")"
      ],
      "metadata": {
        "colab": {
          "base_uri": "https://localhost:8080/"
        },
        "id": "qN63W2CDLBzM",
        "outputId": "92a75fb0-2ff7-41b3-bcc8-7dc587420737"
      },
      "execution_count": null,
      "outputs": [
        {
          "output_type": "stream",
          "name": "stdout",
          "text": [
            "Enter the day of the month: 1\n",
            "Enter the month: 6\n",
            "The day entered is Madaraka Day\n"
          ]
        }
      ]
    },
    {
      "cell_type": "code",
      "source": [
        "# Challenge 19\n",
        "# Let's create a program that reads the name of a month from the user as a string,\n",
        "# then displays the number of days in that month.\n",
        "# The length of a month varies from 28 to 31 days.\n",
        "# The program needs to also display “28 or 29 days” for February\n",
        "# so that leap years are taken into account.\n",
        "# The program should use the else keyword.\n",
        "#\n",
        "\n",
        "OUR CODE GOES HERE"
      ],
      "metadata": {
        "id": "859RpRBfPVho"
      },
      "execution_count": null,
      "outputs": []
    },
    {
      "cell_type": "markdown",
      "source": [
        "### AND"
      ],
      "metadata": {
        "id": "1lAF4IpKPj1q"
      }
    },
    {
      "cell_type": "code",
      "source": [
        "# Example 32 use of and\n",
        "x = 11\n",
        "y = 10\n",
        "z = 12\n",
        "\n",
        "if x > y and z > x:\n",
        "  print(\"Both conditions are true\")"
      ],
      "metadata": {
        "colab": {
          "base_uri": "https://localhost:8080/"
        },
        "id": "YiHOq4kXPl3V",
        "outputId": "7950e008-41de-4f19-9844-4c371354e06b"
      },
      "execution_count": null,
      "outputs": [
        {
          "output_type": "stream",
          "name": "stdout",
          "text": [
            "Both conditions are true\n"
          ]
        }
      ]
    },
    {
      "cell_type": "code",
      "source": [
        "# Example 33\n",
        "\n",
        "name = \"Victor\"\n",
        "height = 180\n",
        "\n",
        "if name == \"Victor\" and height == 180:\n",
        "  print(\"Your name is Victor, and you are 180cm tall.\")"
      ],
      "metadata": {
        "colab": {
          "base_uri": "https://localhost:8080/"
        },
        "id": "YSJp8TNsQIqc",
        "outputId": "065ee1ce-9ccc-40d4-d5d5-cc07b8c0ea3c"
      },
      "execution_count": null,
      "outputs": [
        {
          "output_type": "stream",
          "name": "stdout",
          "text": [
            "Your name is Victor, and you are 180cm tall.\n"
          ]
        }
      ]
    },
    {
      "cell_type": "code",
      "source": [
        "# Example 33\n",
        "\n",
        "name = \"Victor\"\n",
        "height = 180\n",
        "\n",
        "if name == \"Victor\" and height == 45:\n",
        "  print(\"Your name is Victor, and you are 180cm tall.\")\n",
        "else:\n",
        "  print(\"You are not Victor who is 180cm tall\")"
      ],
      "metadata": {
        "colab": {
          "base_uri": "https://localhost:8080/"
        },
        "id": "hrkpQA0KR9do",
        "outputId": "199b138c-6725-4797-cd67-a59361a94c95"
      },
      "execution_count": null,
      "outputs": [
        {
          "output_type": "stream",
          "name": "stdout",
          "text": [
            "You are not Victor who is 180cm tall\n"
          ]
        }
      ]
    },
    {
      "cell_type": "markdown",
      "source": [
        "### OR"
      ],
      "metadata": {
        "id": "61TniNGNSSr9"
      }
    },
    {
      "cell_type": "code",
      "source": [
        "# Example 34\n",
        "# Declaring our variables\n",
        "\n",
        "x = 10\n",
        "y = 11\n",
        "z = 12\n",
        "\n",
        "if x > y or x>z:\n",
        "  print(\"One of the conditions is true\")\n",
        "else:\n",
        "  print (\"Neither of the conditions is true\")"
      ],
      "metadata": {
        "colab": {
          "base_uri": "https://localhost:8080/"
        },
        "id": "GSezSEkqSVX1",
        "outputId": "8ca6dadd-d3ce-43b4-eb3a-6c9ecb43de47"
      },
      "execution_count": null,
      "outputs": [
        {
          "output_type": "stream",
          "name": "stdout",
          "text": [
            "Neither of the conditions is true\n"
          ]
        }
      ]
    },
    {
      "cell_type": "code",
      "source": [
        "# Example 35\n",
        "# declaring our variables\n",
        "\n",
        "w = 10\n",
        "x = 15\n",
        "y = 20\n",
        "z = 25\n",
        "\n",
        "if (w ==10 or x == 15) or (y == 16 or z==25):\n",
        "  print(\"The statement is true\")\n",
        "else:\n",
        "  print(\"False\")"
      ],
      "metadata": {
        "colab": {
          "base_uri": "https://localhost:8080/"
        },
        "id": "x9mAY9NZTHTg",
        "outputId": "4a840df5-2920-4716-a74f-5aaa6a59793c"
      },
      "execution_count": null,
      "outputs": [
        {
          "output_type": "stream",
          "name": "stdout",
          "text": [
            "The statement is true\n"
          ]
        }
      ]
    },
    {
      "cell_type": "code",
      "source": [
        "# Challenge 20\n",
        "# Write a program that reads a wavelength from the user and reports its color.\n",
        "# Display an appropriate error message if the wavelength entered by the user\n",
        "# is outside of the visible spectrum.\n",
        "# (You can do external research on this challenge to determine the wavelength).\n",
        "# You should use the else keyword.\n",
        "\n",
        "# define the range of the visible spectrum (given in nano metres)\n",
        "spectrum_min = 380\n",
        "spectrum_max = 750\n",
        "\n",
        "# get wavelength input from the user\n",
        "wavelength = float(input(\"Enter the wavelength: \"))\n",
        "\n",
        "# check if wavelength is within visible spectrum\n",
        "if spectrum_min <= wavelength <= spectrum_max:\n",
        "  # determine the color based on wavelength\n",
        "  if 380 <= wavelength < 450:\n",
        "    color = \"Violet\"\n",
        "  elif 450 <= wavelength < 495:\n",
        "    color = \"Blue\"\n",
        "  elif 495 <= wavelength < 570:\n",
        "    color = \"Green\"\n",
        "  elif 570 <= wavelength < 590:\n",
        "    color = \"Yellow\"\n",
        "  elif 590 <= wavelength < 620:\n",
        "    color = \"Orange\"\n",
        "  else:\n",
        "    color = \"Red\"\n",
        "  print (f\"The color for a wavelength of {wavelength} nm is {color}\")\n",
        "else:\n",
        "  print(f\"The wavelength {wavelength} nm is outside the visible spectrum\")"
      ],
      "metadata": {
        "colab": {
          "base_uri": "https://localhost:8080/"
        },
        "id": "T9AZfsZDLW1v",
        "outputId": "797e2be6-41de-4609-d1ec-6d7cf8c5d431"
      },
      "execution_count": null,
      "outputs": [
        {
          "output_type": "stream",
          "name": "stdout",
          "text": [
            "Enter the wavelength: 480\n",
            "The color for a wavelength of 480.0 nm is Blue\n"
          ]
        }
      ]
    },
    {
      "cell_type": "markdown",
      "source": [
        "### Loops and Iterations"
      ],
      "metadata": {
        "id": "DhAO6At6VzQC"
      }
    },
    {
      "cell_type": "code",
      "source": [
        "# using [for]\n",
        "# Example : Iterating over a range\n",
        "\n",
        "for i in range(5):\n",
        "  print (f\"Iteration {i}\")"
      ],
      "metadata": {
        "colab": {
          "base_uri": "https://localhost:8080/"
        },
        "id": "hK09_eHAV75J",
        "outputId": "d54da103-2016-445d-ce74-330e2ec97a27"
      },
      "execution_count": null,
      "outputs": [
        {
          "output_type": "stream",
          "name": "stdout",
          "text": [
            "Iteration 0\n",
            "Iteration 1\n",
            "Iteration 2\n",
            "Iteration 3\n",
            "Iteration 4\n"
          ]
        }
      ]
    },
    {
      "cell_type": "code",
      "source": [
        "# displaying game levels\n",
        "\n",
        "levels = [\"Level 1: Amateur\",\n",
        "          \"Level 2: Regular\",\n",
        "          \"Level 3: Professional\",\n",
        "          \"Level 4: Top Player\",\n",
        "          \"Level 5: Superstar\",\n",
        "          \"Level 6: Legendary\"\n",
        "          ]\n",
        "\n",
        "for level in levels:\n",
        "  print(f\"Welcome to {level}\")"
      ],
      "metadata": {
        "colab": {
          "base_uri": "https://localhost:8080/"
        },
        "id": "6iOGbv8BZfIp",
        "outputId": "0cf75a4d-2222-4ef4-fb17-63b4421b70b5"
      },
      "execution_count": null,
      "outputs": [
        {
          "output_type": "stream",
          "name": "stdout",
          "text": [
            "Welcome to Level 1: Amateur\n",
            "Welcome to Level 2: Regular\n",
            "Welcome to Level 3: Professional\n",
            "Welcome to Level 4: Top Player\n",
            "Welcome to Level 5: Superstar\n",
            "Welcome to Level 6: Legendary\n"
          ]
        }
      ]
    },
    {
      "cell_type": "code",
      "source": [
        "# using the while loop\n",
        "# loops until a condition is met\n",
        "\n",
        "count = 0\n",
        "while count < 5:\n",
        "  print(f\"Count is {count}\")\n",
        "  count += 1"
      ],
      "metadata": {
        "colab": {
          "base_uri": "https://localhost:8080/"
        },
        "id": "9xuBQ740b0SA",
        "outputId": "25d4df19-1691-4145-c469-256d7dce275e"
      },
      "execution_count": null,
      "outputs": [
        {
          "output_type": "stream",
          "name": "stdout",
          "text": [
            "Count is 0\n",
            "Count is 1\n",
            "Count is 2\n",
            "Count is 3\n",
            "Count is 4\n"
          ]
        }
      ]
    },
    {
      "cell_type": "code",
      "source": [
        "# simple countdown timer\n",
        "\n",
        "timer = 10\n",
        "while timer > 0:\n",
        "  print(f\"Time remaining: {timer} seconds\")\n",
        "  timer -= 1\n",
        "print(\"Game Over!\")"
      ],
      "metadata": {
        "colab": {
          "base_uri": "https://localhost:8080/"
        },
        "id": "_gk38XvPdmBH",
        "outputId": "64768c25-3793-4998-b7a6-ecd39e887cec"
      },
      "execution_count": null,
      "outputs": [
        {
          "output_type": "stream",
          "name": "stdout",
          "text": [
            "Time remaining: 10 seconds\n",
            "Time remaining: 9 seconds\n",
            "Time remaining: 8 seconds\n",
            "Time remaining: 7 seconds\n",
            "Time remaining: 6 seconds\n",
            "Time remaining: 5 seconds\n",
            "Time remaining: 4 seconds\n",
            "Time remaining: 3 seconds\n",
            "Time remaining: 2 seconds\n",
            "Time remaining: 1 seconds\n",
            "Game Over!\n"
          ]
        }
      ]
    },
    {
      "cell_type": "code",
      "source": [
        "# break: Exit the loop prematurely\n",
        "# stop the loop when a condition has been met\n",
        "\n",
        "for i in range (1,10):\n",
        "  if i == 5:\n",
        "    print(\"Breaking the loop!\")\n",
        "    break\n",
        "  print(i)"
      ],
      "metadata": {
        "colab": {
          "base_uri": "https://localhost:8080/"
        },
        "id": "ra-SvU0i23S1",
        "outputId": "a5131201-4b67-4050-903c-95147fe016c0"
      },
      "execution_count": null,
      "outputs": [
        {
          "output_type": "stream",
          "name": "stdout",
          "text": [
            "1\n",
            "2\n",
            "3\n",
            "4\n",
            "Breaking the loop!\n"
          ]
        }
      ]
    },
    {
      "cell_type": "code",
      "source": [
        "# loops reduce redundancy by automating repetitive tasks\n",
        "# print a pattern manually\n",
        "\n",
        "print(\"*\")\n",
        "print(\"**\")\n",
        "print(\"***\")\n",
        "print(\"*****\")"
      ],
      "metadata": {
        "colab": {
          "base_uri": "https://localhost:8080/"
        },
        "id": "WH2EKwOC3ser",
        "outputId": "bc987f70-b5f6-4bae-f64b-3c7db4afb8e0"
      },
      "execution_count": null,
      "outputs": [
        {
          "output_type": "stream",
          "name": "stdout",
          "text": [
            "*\n",
            "**\n",
            "***\n",
            "*****\n"
          ]
        }
      ]
    },
    {
      "cell_type": "code",
      "source": [
        "# use to create the same pattern\n",
        "\n",
        "for i in range(1,5):\n",
        "  print(\"*\" * i)"
      ],
      "metadata": {
        "colab": {
          "base_uri": "https://localhost:8080/"
        },
        "id": "VCm6-oZD3_48",
        "outputId": "5341b1ef-54ef-4237-f36b-e6ab41c349d2"
      },
      "execution_count": null,
      "outputs": [
        {
          "output_type": "stream",
          "name": "stdout",
          "text": [
            "*\n",
            "**\n",
            "***\n",
            "****\n"
          ]
        }
      ]
    },
    {
      "cell_type": "code",
      "source": [
        "# iterating over a list\n",
        "# process a list of Clubs\n",
        "\n",
        "clubs = [\"Liverpool\", \"Arsenal\", \"Manchester City\", \"Newcastle\"]\n",
        "\n",
        "for club in clubs[1:3]:\n",
        "  print(f\"Hello,  {club}!\")"
      ],
      "metadata": {
        "colab": {
          "base_uri": "https://localhost:8080/"
        },
        "id": "T2ICFoK54POz",
        "outputId": "4b6c3ce8-5126-43f0-c2a6-654e0f5fcc2b"
      },
      "execution_count": null,
      "outputs": [
        {
          "output_type": "stream",
          "name": "stdout",
          "text": [
            "Hello,  Arsenal!\n",
            "Hello,  Manchester City!\n"
          ]
        }
      ]
    },
    {
      "cell_type": "code",
      "source": [
        "# importing a library called random\n",
        "import random\n",
        "\n",
        "# generate a pair of height and weight\n",
        "\n",
        "for i in range (5):\n",
        "  height = random.randint(150,213)\n",
        "  weight = random.randint(45, 200)\n",
        "  print(f\"Person {i+1} with height {height} cm and weight {weight} kg\")"
      ],
      "metadata": {
        "colab": {
          "base_uri": "https://localhost:8080/"
        },
        "id": "d7VboTWZ4syC",
        "outputId": "28aa0652-42cb-4c7d-a244-ad2469ebb39d"
      },
      "execution_count": null,
      "outputs": [
        {
          "output_type": "stream",
          "name": "stdout",
          "text": [
            "Person 1 with height 211 cm and weight 103 kg\n",
            "Person 2 with height 194 cm and weight 98 kg\n",
            "Person 3 with height 171 cm and weight 74 kg\n",
            "Person 4 with height 160 cm and weight 174 kg\n",
            "Person 5 with height 191 cm and weight 192 kg\n"
          ]
        }
      ]
    },
    {
      "cell_type": "code",
      "source": [
        "# Challenge 1\n",
        "# Problem: Print numbers from 1 to 20. For multiples of 3, print \"Fizz\";\n",
        "# for multiples of 5, print \"Buzz\"; for multiples of both, print \"FizzBuzz.\"\n"
      ],
      "metadata": {
        "id": "pVyHzLKT4rDK"
      },
      "execution_count": null,
      "outputs": []
    },
    {
      "cell_type": "code",
      "source": [
        "# Challenge 2\n",
        "# Password Validation\n",
        "# Problem: Prompt the user to enter a password. Allow up to\n",
        "# 3 attempts before locking them out.\n"
      ],
      "metadata": {
        "id": "LplzaE7w7hfc"
      },
      "execution_count": null,
      "outputs": []
    },
    {
      "cell_type": "code",
      "source": [
        "# Challenge 3\n",
        "# Summation: Find the sum of all even numbers between 1 and 100.\n",
        "# # Using a loop to sum even numbers\n"
      ],
      "metadata": {
        "id": "5UGi9ys99Kp3"
      },
      "execution_count": null,
      "outputs": []
    },
    {
      "cell_type": "markdown",
      "source": [
        "#### Lists, Tuples, Dictionaries, Sets"
      ],
      "metadata": {
        "id": "iFRUqZ1j_PsM"
      }
    },
    {
      "cell_type": "code",
      "source": [],
      "metadata": {
        "id": "1UDb80p1wEiy"
      },
      "execution_count": null,
      "outputs": []
    },
    {
      "cell_type": "code",
      "source": [
        "# lists\n",
        "\n",
        "my_list = [1, 2 , 4, \"Epic\"]\n",
        "print(my_list)"
      ],
      "metadata": {
        "colab": {
          "base_uri": "https://localhost:8080/"
        },
        "id": "t7vy6pdD_dUO",
        "outputId": "2920cdc8-990d-449a-83c7-6bd43388b420"
      },
      "execution_count": null,
      "outputs": [
        {
          "output_type": "stream",
          "name": "stdout",
          "text": [
            "[1, 2, 4, 'Epic']\n"
          ]
        }
      ]
    },
    {
      "cell_type": "code",
      "source": [
        "# append an item to a list\n",
        "\n",
        "my_list.append (False)\n",
        "print(my_list)"
      ],
      "metadata": {
        "colab": {
          "base_uri": "https://localhost:8080/"
        },
        "id": "3-REuZgH_8Qu",
        "outputId": "54b242ef-d2a0-484c-d309-9b08f9c5ab98"
      },
      "execution_count": null,
      "outputs": [
        {
          "output_type": "stream",
          "name": "stdout",
          "text": [
            "[1, 2, 4, 'Epic', False]\n"
          ]
        }
      ]
    },
    {
      "cell_type": "code",
      "source": [
        "# joining lists\n",
        "\n",
        "list_2 = [\"Arsenal\", 7]\n",
        "list_3 = my_list + list_2\n",
        "print(list_3)"
      ],
      "metadata": {
        "colab": {
          "base_uri": "https://localhost:8080/"
        },
        "id": "9SlU4uqPAboD",
        "outputId": "5e7b832e-1a69-4a15-f25f-51bdd54a91ff"
      },
      "execution_count": null,
      "outputs": [
        {
          "output_type": "stream",
          "name": "stdout",
          "text": [
            "[1, 2, 4, 'Epic', False, 'Arsenal', 7]\n"
          ]
        }
      ]
    },
    {
      "cell_type": "code",
      "source": [
        "# extending a list by adding another list\n",
        "\n",
        "my_list.extend(list_2)\n",
        "print(my_list)"
      ],
      "metadata": {
        "colab": {
          "base_uri": "https://localhost:8080/"
        },
        "id": "b4ZjhM4UAit2",
        "outputId": "0ca71b63-ee40-4fa4-a8b6-ef71aca1bd97"
      },
      "execution_count": null,
      "outputs": [
        {
          "output_type": "stream",
          "name": "stdout",
          "text": [
            "[1, 2, 4, 'Epic', False, 'Arsenal', 7]\n"
          ]
        }
      ]
    },
    {
      "cell_type": "code",
      "source": [
        "# tuple\n",
        "my_tuple = (\"Epic\", False, int(3), float(45))\n",
        "print(my_tuple)"
      ],
      "metadata": {
        "colab": {
          "base_uri": "https://localhost:8080/"
        },
        "id": "XQonBWfOBcQz",
        "outputId": "90a457e7-3b4b-415e-fce0-5e93c0fde784"
      },
      "execution_count": null,
      "outputs": [
        {
          "output_type": "stream",
          "name": "stdout",
          "text": [
            "('Epic', False, 3, 45.0)\n"
          ]
        }
      ]
    },
    {
      "cell_type": "code",
      "source": [
        "red = (255, 0 , 0)\n",
        "green = (0, 255, 0)\n",
        "blue = (0, 0, 255)\n",
        "white = (255, 255, 255)\n",
        "black = (0, 0, 0)"
      ],
      "metadata": {
        "id": "SLy_6kbkCAjx"
      },
      "execution_count": null,
      "outputs": []
    },
    {
      "cell_type": "code",
      "source": [
        "# dictionary\n",
        "\n",
        "my_dict = {\"name\": \"Victor\", \"age\":20}\n",
        "print(my_dict)"
      ],
      "metadata": {
        "colab": {
          "base_uri": "https://localhost:8080/"
        },
        "id": "wzVbohn5Cuha",
        "outputId": "546a7627-dbc6-4e6a-87ab-f1c88754fd39"
      },
      "execution_count": null,
      "outputs": [
        {
          "output_type": "stream",
          "name": "stdout",
          "text": [
            "{'name': 'Victor', 'age': 20}\n"
          ]
        }
      ]
    },
    {
      "cell_type": "code",
      "source": [
        "# adding items to a dictionary\n",
        "\n",
        "my_dict[\"city\"] = \"Nairobi\""
      ],
      "metadata": {
        "id": "RjjaJ6QwDsR1"
      },
      "execution_count": null,
      "outputs": []
    },
    {
      "cell_type": "code",
      "source": [],
      "metadata": {
        "id": "K3bUIC5OYPFW"
      },
      "execution_count": null,
      "outputs": []
    },
    {
      "cell_type": "code",
      "source": [
        "# is it possible to add more than one item to a variable in a dictionary\n",
        "\n",
        "my_dict2 = {\"name\":[\"Victor\",\"Kilemi\", \"Naomi\"], \"age\":[20,31,16]}\n",
        "print(my_dict2)"
      ],
      "metadata": {
        "colab": {
          "base_uri": "https://localhost:8080/"
        },
        "id": "TGrH4baYEN8q",
        "outputId": "d28ed5ae-84e7-4632-8af3-de41e4969317"
      },
      "execution_count": null,
      "outputs": [
        {
          "output_type": "stream",
          "name": "stdout",
          "text": [
            "{'name': ['Victor', 'Kilemi', 'Naomi'], 'age': [20, 31, 16]}\n"
          ]
        }
      ]
    },
    {
      "cell_type": "code",
      "source": [
        "import pandas as pd\n",
        "df = pd.DataFrame(my_dict2)\n",
        "df"
      ],
      "metadata": {
        "colab": {
          "base_uri": "https://localhost:8080/",
          "height": 143
        },
        "id": "KTyFeUz6awYq",
        "outputId": "a7d1c7d0-5cef-4e7d-83e8-2356e7e3ac7e"
      },
      "execution_count": null,
      "outputs": [
        {
          "output_type": "execute_result",
          "data": {
            "text/plain": [
              "     name  age\n",
              "0  Victor   20\n",
              "1  Kilemi   31\n",
              "2   Naomi   16"
            ],
            "text/html": [
              "\n",
              "  <div id=\"df-38033277-c6ed-448e-8700-6cd999dd882a\" class=\"colab-df-container\">\n",
              "    <div>\n",
              "<style scoped>\n",
              "    .dataframe tbody tr th:only-of-type {\n",
              "        vertical-align: middle;\n",
              "    }\n",
              "\n",
              "    .dataframe tbody tr th {\n",
              "        vertical-align: top;\n",
              "    }\n",
              "\n",
              "    .dataframe thead th {\n",
              "        text-align: right;\n",
              "    }\n",
              "</style>\n",
              "<table border=\"1\" class=\"dataframe\">\n",
              "  <thead>\n",
              "    <tr style=\"text-align: right;\">\n",
              "      <th></th>\n",
              "      <th>name</th>\n",
              "      <th>age</th>\n",
              "    </tr>\n",
              "  </thead>\n",
              "  <tbody>\n",
              "    <tr>\n",
              "      <th>0</th>\n",
              "      <td>Victor</td>\n",
              "      <td>20</td>\n",
              "    </tr>\n",
              "    <tr>\n",
              "      <th>1</th>\n",
              "      <td>Kilemi</td>\n",
              "      <td>31</td>\n",
              "    </tr>\n",
              "    <tr>\n",
              "      <th>2</th>\n",
              "      <td>Naomi</td>\n",
              "      <td>16</td>\n",
              "    </tr>\n",
              "  </tbody>\n",
              "</table>\n",
              "</div>\n",
              "    <div class=\"colab-df-buttons\">\n",
              "\n",
              "  <div class=\"colab-df-container\">\n",
              "    <button class=\"colab-df-convert\" onclick=\"convertToInteractive('df-38033277-c6ed-448e-8700-6cd999dd882a')\"\n",
              "            title=\"Convert this dataframe to an interactive table.\"\n",
              "            style=\"display:none;\">\n",
              "\n",
              "  <svg xmlns=\"http://www.w3.org/2000/svg\" height=\"24px\" viewBox=\"0 -960 960 960\">\n",
              "    <path d=\"M120-120v-720h720v720H120Zm60-500h600v-160H180v160Zm220 220h160v-160H400v160Zm0 220h160v-160H400v160ZM180-400h160v-160H180v160Zm440 0h160v-160H620v160ZM180-180h160v-160H180v160Zm440 0h160v-160H620v160Z\"/>\n",
              "  </svg>\n",
              "    </button>\n",
              "\n",
              "  <style>\n",
              "    .colab-df-container {\n",
              "      display:flex;\n",
              "      gap: 12px;\n",
              "    }\n",
              "\n",
              "    .colab-df-convert {\n",
              "      background-color: #E8F0FE;\n",
              "      border: none;\n",
              "      border-radius: 50%;\n",
              "      cursor: pointer;\n",
              "      display: none;\n",
              "      fill: #1967D2;\n",
              "      height: 32px;\n",
              "      padding: 0 0 0 0;\n",
              "      width: 32px;\n",
              "    }\n",
              "\n",
              "    .colab-df-convert:hover {\n",
              "      background-color: #E2EBFA;\n",
              "      box-shadow: 0px 1px 2px rgba(60, 64, 67, 0.3), 0px 1px 3px 1px rgba(60, 64, 67, 0.15);\n",
              "      fill: #174EA6;\n",
              "    }\n",
              "\n",
              "    .colab-df-buttons div {\n",
              "      margin-bottom: 4px;\n",
              "    }\n",
              "\n",
              "    [theme=dark] .colab-df-convert {\n",
              "      background-color: #3B4455;\n",
              "      fill: #D2E3FC;\n",
              "    }\n",
              "\n",
              "    [theme=dark] .colab-df-convert:hover {\n",
              "      background-color: #434B5C;\n",
              "      box-shadow: 0px 1px 3px 1px rgba(0, 0, 0, 0.15);\n",
              "      filter: drop-shadow(0px 1px 2px rgba(0, 0, 0, 0.3));\n",
              "      fill: #FFFFFF;\n",
              "    }\n",
              "  </style>\n",
              "\n",
              "    <script>\n",
              "      const buttonEl =\n",
              "        document.querySelector('#df-38033277-c6ed-448e-8700-6cd999dd882a button.colab-df-convert');\n",
              "      buttonEl.style.display =\n",
              "        google.colab.kernel.accessAllowed ? 'block' : 'none';\n",
              "\n",
              "      async function convertToInteractive(key) {\n",
              "        const element = document.querySelector('#df-38033277-c6ed-448e-8700-6cd999dd882a');\n",
              "        const dataTable =\n",
              "          await google.colab.kernel.invokeFunction('convertToInteractive',\n",
              "                                                    [key], {});\n",
              "        if (!dataTable) return;\n",
              "\n",
              "        const docLinkHtml = 'Like what you see? Visit the ' +\n",
              "          '<a target=\"_blank\" href=https://colab.research.google.com/notebooks/data_table.ipynb>data table notebook</a>'\n",
              "          + ' to learn more about interactive tables.';\n",
              "        element.innerHTML = '';\n",
              "        dataTable['output_type'] = 'display_data';\n",
              "        await google.colab.output.renderOutput(dataTable, element);\n",
              "        const docLink = document.createElement('div');\n",
              "        docLink.innerHTML = docLinkHtml;\n",
              "        element.appendChild(docLink);\n",
              "      }\n",
              "    </script>\n",
              "  </div>\n",
              "\n",
              "\n",
              "    <div id=\"df-1ff3b601-a67c-4ad5-912a-9e9a0e8cbb80\">\n",
              "      <button class=\"colab-df-quickchart\" onclick=\"quickchart('df-1ff3b601-a67c-4ad5-912a-9e9a0e8cbb80')\"\n",
              "                title=\"Suggest charts\"\n",
              "                style=\"display:none;\">\n",
              "\n",
              "<svg xmlns=\"http://www.w3.org/2000/svg\" height=\"24px\"viewBox=\"0 0 24 24\"\n",
              "     width=\"24px\">\n",
              "    <g>\n",
              "        <path d=\"M19 3H5c-1.1 0-2 .9-2 2v14c0 1.1.9 2 2 2h14c1.1 0 2-.9 2-2V5c0-1.1-.9-2-2-2zM9 17H7v-7h2v7zm4 0h-2V7h2v10zm4 0h-2v-4h2v4z\"/>\n",
              "    </g>\n",
              "</svg>\n",
              "      </button>\n",
              "\n",
              "<style>\n",
              "  .colab-df-quickchart {\n",
              "      --bg-color: #E8F0FE;\n",
              "      --fill-color: #1967D2;\n",
              "      --hover-bg-color: #E2EBFA;\n",
              "      --hover-fill-color: #174EA6;\n",
              "      --disabled-fill-color: #AAA;\n",
              "      --disabled-bg-color: #DDD;\n",
              "  }\n",
              "\n",
              "  [theme=dark] .colab-df-quickchart {\n",
              "      --bg-color: #3B4455;\n",
              "      --fill-color: #D2E3FC;\n",
              "      --hover-bg-color: #434B5C;\n",
              "      --hover-fill-color: #FFFFFF;\n",
              "      --disabled-bg-color: #3B4455;\n",
              "      --disabled-fill-color: #666;\n",
              "  }\n",
              "\n",
              "  .colab-df-quickchart {\n",
              "    background-color: var(--bg-color);\n",
              "    border: none;\n",
              "    border-radius: 50%;\n",
              "    cursor: pointer;\n",
              "    display: none;\n",
              "    fill: var(--fill-color);\n",
              "    height: 32px;\n",
              "    padding: 0;\n",
              "    width: 32px;\n",
              "  }\n",
              "\n",
              "  .colab-df-quickchart:hover {\n",
              "    background-color: var(--hover-bg-color);\n",
              "    box-shadow: 0 1px 2px rgba(60, 64, 67, 0.3), 0 1px 3px 1px rgba(60, 64, 67, 0.15);\n",
              "    fill: var(--button-hover-fill-color);\n",
              "  }\n",
              "\n",
              "  .colab-df-quickchart-complete:disabled,\n",
              "  .colab-df-quickchart-complete:disabled:hover {\n",
              "    background-color: var(--disabled-bg-color);\n",
              "    fill: var(--disabled-fill-color);\n",
              "    box-shadow: none;\n",
              "  }\n",
              "\n",
              "  .colab-df-spinner {\n",
              "    border: 2px solid var(--fill-color);\n",
              "    border-color: transparent;\n",
              "    border-bottom-color: var(--fill-color);\n",
              "    animation:\n",
              "      spin 1s steps(1) infinite;\n",
              "  }\n",
              "\n",
              "  @keyframes spin {\n",
              "    0% {\n",
              "      border-color: transparent;\n",
              "      border-bottom-color: var(--fill-color);\n",
              "      border-left-color: var(--fill-color);\n",
              "    }\n",
              "    20% {\n",
              "      border-color: transparent;\n",
              "      border-left-color: var(--fill-color);\n",
              "      border-top-color: var(--fill-color);\n",
              "    }\n",
              "    30% {\n",
              "      border-color: transparent;\n",
              "      border-left-color: var(--fill-color);\n",
              "      border-top-color: var(--fill-color);\n",
              "      border-right-color: var(--fill-color);\n",
              "    }\n",
              "    40% {\n",
              "      border-color: transparent;\n",
              "      border-right-color: var(--fill-color);\n",
              "      border-top-color: var(--fill-color);\n",
              "    }\n",
              "    60% {\n",
              "      border-color: transparent;\n",
              "      border-right-color: var(--fill-color);\n",
              "    }\n",
              "    80% {\n",
              "      border-color: transparent;\n",
              "      border-right-color: var(--fill-color);\n",
              "      border-bottom-color: var(--fill-color);\n",
              "    }\n",
              "    90% {\n",
              "      border-color: transparent;\n",
              "      border-bottom-color: var(--fill-color);\n",
              "    }\n",
              "  }\n",
              "</style>\n",
              "\n",
              "      <script>\n",
              "        async function quickchart(key) {\n",
              "          const quickchartButtonEl =\n",
              "            document.querySelector('#' + key + ' button');\n",
              "          quickchartButtonEl.disabled = true;  // To prevent multiple clicks.\n",
              "          quickchartButtonEl.classList.add('colab-df-spinner');\n",
              "          try {\n",
              "            const charts = await google.colab.kernel.invokeFunction(\n",
              "                'suggestCharts', [key], {});\n",
              "          } catch (error) {\n",
              "            console.error('Error during call to suggestCharts:', error);\n",
              "          }\n",
              "          quickchartButtonEl.classList.remove('colab-df-spinner');\n",
              "          quickchartButtonEl.classList.add('colab-df-quickchart-complete');\n",
              "        }\n",
              "        (() => {\n",
              "          let quickchartButtonEl =\n",
              "            document.querySelector('#df-1ff3b601-a67c-4ad5-912a-9e9a0e8cbb80 button');\n",
              "          quickchartButtonEl.style.display =\n",
              "            google.colab.kernel.accessAllowed ? 'block' : 'none';\n",
              "        })();\n",
              "      </script>\n",
              "    </div>\n",
              "\n",
              "  <div id=\"id_104117b9-c658-4e85-8ca9-4b35119aca24\">\n",
              "    <style>\n",
              "      .colab-df-generate {\n",
              "        background-color: #E8F0FE;\n",
              "        border: none;\n",
              "        border-radius: 50%;\n",
              "        cursor: pointer;\n",
              "        display: none;\n",
              "        fill: #1967D2;\n",
              "        height: 32px;\n",
              "        padding: 0 0 0 0;\n",
              "        width: 32px;\n",
              "      }\n",
              "\n",
              "      .colab-df-generate:hover {\n",
              "        background-color: #E2EBFA;\n",
              "        box-shadow: 0px 1px 2px rgba(60, 64, 67, 0.3), 0px 1px 3px 1px rgba(60, 64, 67, 0.15);\n",
              "        fill: #174EA6;\n",
              "      }\n",
              "\n",
              "      [theme=dark] .colab-df-generate {\n",
              "        background-color: #3B4455;\n",
              "        fill: #D2E3FC;\n",
              "      }\n",
              "\n",
              "      [theme=dark] .colab-df-generate:hover {\n",
              "        background-color: #434B5C;\n",
              "        box-shadow: 0px 1px 3px 1px rgba(0, 0, 0, 0.15);\n",
              "        filter: drop-shadow(0px 1px 2px rgba(0, 0, 0, 0.3));\n",
              "        fill: #FFFFFF;\n",
              "      }\n",
              "    </style>\n",
              "    <button class=\"colab-df-generate\" onclick=\"generateWithVariable('df')\"\n",
              "            title=\"Generate code using this dataframe.\"\n",
              "            style=\"display:none;\">\n",
              "\n",
              "  <svg xmlns=\"http://www.w3.org/2000/svg\" height=\"24px\"viewBox=\"0 0 24 24\"\n",
              "       width=\"24px\">\n",
              "    <path d=\"M7,19H8.4L18.45,9,17,7.55,7,17.6ZM5,21V16.75L18.45,3.32a2,2,0,0,1,2.83,0l1.4,1.43a1.91,1.91,0,0,1,.58,1.4,1.91,1.91,0,0,1-.58,1.4L9.25,21ZM18.45,9,17,7.55Zm-12,3A5.31,5.31,0,0,0,4.9,8.1,5.31,5.31,0,0,0,1,6.5,5.31,5.31,0,0,0,4.9,4.9,5.31,5.31,0,0,0,6.5,1,5.31,5.31,0,0,0,8.1,4.9,5.31,5.31,0,0,0,12,6.5,5.46,5.46,0,0,0,6.5,12Z\"/>\n",
              "  </svg>\n",
              "    </button>\n",
              "    <script>\n",
              "      (() => {\n",
              "      const buttonEl =\n",
              "        document.querySelector('#id_104117b9-c658-4e85-8ca9-4b35119aca24 button.colab-df-generate');\n",
              "      buttonEl.style.display =\n",
              "        google.colab.kernel.accessAllowed ? 'block' : 'none';\n",
              "\n",
              "      buttonEl.onclick = () => {\n",
              "        google.colab.notebook.generateWithVariable('df');\n",
              "      }\n",
              "      })();\n",
              "    </script>\n",
              "  </div>\n",
              "\n",
              "    </div>\n",
              "  </div>\n"
            ],
            "application/vnd.google.colaboratory.intrinsic+json": {
              "type": "dataframe",
              "variable_name": "df",
              "summary": "{\n  \"name\": \"df\",\n  \"rows\": 3,\n  \"fields\": [\n    {\n      \"column\": \"name\",\n      \"properties\": {\n        \"dtype\": \"string\",\n        \"num_unique_values\": 3,\n        \"samples\": [\n          \"Victor\",\n          \"Kilemi\",\n          \"Naomi\"\n        ],\n        \"semantic_type\": \"\",\n        \"description\": \"\"\n      }\n    },\n    {\n      \"column\": \"age\",\n      \"properties\": {\n        \"dtype\": \"number\",\n        \"std\": 7,\n        \"min\": 16,\n        \"max\": 31,\n        \"num_unique_values\": 3,\n        \"samples\": [\n          20,\n          31,\n          16\n        ],\n        \"semantic_type\": \"\",\n        \"description\": \"\"\n      }\n    }\n  ]\n}"
            }
          },
          "metadata": {},
          "execution_count": 3
        }
      ]
    },
    {
      "cell_type": "code",
      "source": [
        "# use a dictionary as a value of a dictionary\n",
        "\n",
        "products = {\n",
        "    \"Laptop\":{\n",
        "        \"price\": 47000,\n",
        "        \"stock\": 350,\n",
        "        \"category\": \"Electronics\"\n",
        "    },\n",
        "\n",
        "    \"Mouse\": {\n",
        "        \"price\" : 4000,\n",
        "        \"stock\" : 500,\n",
        "        \"category\": \"Accessories\"\n",
        "    }\n",
        "}\n",
        "\n",
        "print(f\"Laptop details: {products['Laptop']}\")\n",
        "print(f\"Mouse details: {products['Mouse']}\")"
      ],
      "metadata": {
        "colab": {
          "base_uri": "https://localhost:8080/"
        },
        "id": "kdYmRpHkFVu0",
        "outputId": "85ca40ea-724f-439e-dc24-54cf66188978"
      },
      "execution_count": null,
      "outputs": [
        {
          "output_type": "stream",
          "name": "stdout",
          "text": [
            "Laptop details: {'price': 47000, 'stock': 350, 'category': 'Electronics'}\n",
            "Mouse details: {'price': 4000, 'stock': 500, 'category': 'Accessories'}\n"
          ]
        }
      ]
    },
    {
      "cell_type": "code",
      "source": [
        "df = pd.DataFrame(products)\n",
        "df"
      ],
      "metadata": {
        "id": "Spws-BqHa8sm",
        "outputId": "48a8007e-da7b-47e1-cdc2-caf81925d07e",
        "colab": {
          "base_uri": "https://localhost:8080/"
        }
      },
      "execution_count": null,
      "outputs": [
        {
          "output_type": "execute_result",
          "data": {
            "text/plain": [
              "               Laptop        Mouse\n",
              "price           47000         4000\n",
              "stock             350          500\n",
              "category  Electronics  Accessories"
            ],
            "text/html": [
              "\n",
              "  <div id=\"df-d32d327c-25ba-4dfe-9def-2508c7d5930a\" class=\"colab-df-container\">\n",
              "    <div>\n",
              "<style scoped>\n",
              "    .dataframe tbody tr th:only-of-type {\n",
              "        vertical-align: middle;\n",
              "    }\n",
              "\n",
              "    .dataframe tbody tr th {\n",
              "        vertical-align: top;\n",
              "    }\n",
              "\n",
              "    .dataframe thead th {\n",
              "        text-align: right;\n",
              "    }\n",
              "</style>\n",
              "<table border=\"1\" class=\"dataframe\">\n",
              "  <thead>\n",
              "    <tr style=\"text-align: right;\">\n",
              "      <th></th>\n",
              "      <th>Laptop</th>\n",
              "      <th>Mouse</th>\n",
              "    </tr>\n",
              "  </thead>\n",
              "  <tbody>\n",
              "    <tr>\n",
              "      <th>price</th>\n",
              "      <td>47000</td>\n",
              "      <td>4000</td>\n",
              "    </tr>\n",
              "    <tr>\n",
              "      <th>stock</th>\n",
              "      <td>350</td>\n",
              "      <td>500</td>\n",
              "    </tr>\n",
              "    <tr>\n",
              "      <th>category</th>\n",
              "      <td>Electronics</td>\n",
              "      <td>Accessories</td>\n",
              "    </tr>\n",
              "  </tbody>\n",
              "</table>\n",
              "</div>\n",
              "    <div class=\"colab-df-buttons\">\n",
              "\n",
              "  <div class=\"colab-df-container\">\n",
              "    <button class=\"colab-df-convert\" onclick=\"convertToInteractive('df-d32d327c-25ba-4dfe-9def-2508c7d5930a')\"\n",
              "            title=\"Convert this dataframe to an interactive table.\"\n",
              "            style=\"display:none;\">\n",
              "\n",
              "  <svg xmlns=\"http://www.w3.org/2000/svg\" height=\"24px\" viewBox=\"0 -960 960 960\">\n",
              "    <path d=\"M120-120v-720h720v720H120Zm60-500h600v-160H180v160Zm220 220h160v-160H400v160Zm0 220h160v-160H400v160ZM180-400h160v-160H180v160Zm440 0h160v-160H620v160ZM180-180h160v-160H180v160Zm440 0h160v-160H620v160Z\"/>\n",
              "  </svg>\n",
              "    </button>\n",
              "\n",
              "  <style>\n",
              "    .colab-df-container {\n",
              "      display:flex;\n",
              "      gap: 12px;\n",
              "    }\n",
              "\n",
              "    .colab-df-convert {\n",
              "      background-color: #E8F0FE;\n",
              "      border: none;\n",
              "      border-radius: 50%;\n",
              "      cursor: pointer;\n",
              "      display: none;\n",
              "      fill: #1967D2;\n",
              "      height: 32px;\n",
              "      padding: 0 0 0 0;\n",
              "      width: 32px;\n",
              "    }\n",
              "\n",
              "    .colab-df-convert:hover {\n",
              "      background-color: #E2EBFA;\n",
              "      box-shadow: 0px 1px 2px rgba(60, 64, 67, 0.3), 0px 1px 3px 1px rgba(60, 64, 67, 0.15);\n",
              "      fill: #174EA6;\n",
              "    }\n",
              "\n",
              "    .colab-df-buttons div {\n",
              "      margin-bottom: 4px;\n",
              "    }\n",
              "\n",
              "    [theme=dark] .colab-df-convert {\n",
              "      background-color: #3B4455;\n",
              "      fill: #D2E3FC;\n",
              "    }\n",
              "\n",
              "    [theme=dark] .colab-df-convert:hover {\n",
              "      background-color: #434B5C;\n",
              "      box-shadow: 0px 1px 3px 1px rgba(0, 0, 0, 0.15);\n",
              "      filter: drop-shadow(0px 1px 2px rgba(0, 0, 0, 0.3));\n",
              "      fill: #FFFFFF;\n",
              "    }\n",
              "  </style>\n",
              "\n",
              "    <script>\n",
              "      const buttonEl =\n",
              "        document.querySelector('#df-d32d327c-25ba-4dfe-9def-2508c7d5930a button.colab-df-convert');\n",
              "      buttonEl.style.display =\n",
              "        google.colab.kernel.accessAllowed ? 'block' : 'none';\n",
              "\n",
              "      async function convertToInteractive(key) {\n",
              "        const element = document.querySelector('#df-d32d327c-25ba-4dfe-9def-2508c7d5930a');\n",
              "        const dataTable =\n",
              "          await google.colab.kernel.invokeFunction('convertToInteractive',\n",
              "                                                    [key], {});\n",
              "        if (!dataTable) return;\n",
              "\n",
              "        const docLinkHtml = 'Like what you see? Visit the ' +\n",
              "          '<a target=\"_blank\" href=https://colab.research.google.com/notebooks/data_table.ipynb>data table notebook</a>'\n",
              "          + ' to learn more about interactive tables.';\n",
              "        element.innerHTML = '';\n",
              "        dataTable['output_type'] = 'display_data';\n",
              "        await google.colab.output.renderOutput(dataTable, element);\n",
              "        const docLink = document.createElement('div');\n",
              "        docLink.innerHTML = docLinkHtml;\n",
              "        element.appendChild(docLink);\n",
              "      }\n",
              "    </script>\n",
              "  </div>\n",
              "\n",
              "\n",
              "    <div id=\"df-4cca7877-05fb-4d18-bfbb-d64f52324fd9\">\n",
              "      <button class=\"colab-df-quickchart\" onclick=\"quickchart('df-4cca7877-05fb-4d18-bfbb-d64f52324fd9')\"\n",
              "                title=\"Suggest charts\"\n",
              "                style=\"display:none;\">\n",
              "\n",
              "<svg xmlns=\"http://www.w3.org/2000/svg\" height=\"24px\"viewBox=\"0 0 24 24\"\n",
              "     width=\"24px\">\n",
              "    <g>\n",
              "        <path d=\"M19 3H5c-1.1 0-2 .9-2 2v14c0 1.1.9 2 2 2h14c1.1 0 2-.9 2-2V5c0-1.1-.9-2-2-2zM9 17H7v-7h2v7zm4 0h-2V7h2v10zm4 0h-2v-4h2v4z\"/>\n",
              "    </g>\n",
              "</svg>\n",
              "      </button>\n",
              "\n",
              "<style>\n",
              "  .colab-df-quickchart {\n",
              "      --bg-color: #E8F0FE;\n",
              "      --fill-color: #1967D2;\n",
              "      --hover-bg-color: #E2EBFA;\n",
              "      --hover-fill-color: #174EA6;\n",
              "      --disabled-fill-color: #AAA;\n",
              "      --disabled-bg-color: #DDD;\n",
              "  }\n",
              "\n",
              "  [theme=dark] .colab-df-quickchart {\n",
              "      --bg-color: #3B4455;\n",
              "      --fill-color: #D2E3FC;\n",
              "      --hover-bg-color: #434B5C;\n",
              "      --hover-fill-color: #FFFFFF;\n",
              "      --disabled-bg-color: #3B4455;\n",
              "      --disabled-fill-color: #666;\n",
              "  }\n",
              "\n",
              "  .colab-df-quickchart {\n",
              "    background-color: var(--bg-color);\n",
              "    border: none;\n",
              "    border-radius: 50%;\n",
              "    cursor: pointer;\n",
              "    display: none;\n",
              "    fill: var(--fill-color);\n",
              "    height: 32px;\n",
              "    padding: 0;\n",
              "    width: 32px;\n",
              "  }\n",
              "\n",
              "  .colab-df-quickchart:hover {\n",
              "    background-color: var(--hover-bg-color);\n",
              "    box-shadow: 0 1px 2px rgba(60, 64, 67, 0.3), 0 1px 3px 1px rgba(60, 64, 67, 0.15);\n",
              "    fill: var(--button-hover-fill-color);\n",
              "  }\n",
              "\n",
              "  .colab-df-quickchart-complete:disabled,\n",
              "  .colab-df-quickchart-complete:disabled:hover {\n",
              "    background-color: var(--disabled-bg-color);\n",
              "    fill: var(--disabled-fill-color);\n",
              "    box-shadow: none;\n",
              "  }\n",
              "\n",
              "  .colab-df-spinner {\n",
              "    border: 2px solid var(--fill-color);\n",
              "    border-color: transparent;\n",
              "    border-bottom-color: var(--fill-color);\n",
              "    animation:\n",
              "      spin 1s steps(1) infinite;\n",
              "  }\n",
              "\n",
              "  @keyframes spin {\n",
              "    0% {\n",
              "      border-color: transparent;\n",
              "      border-bottom-color: var(--fill-color);\n",
              "      border-left-color: var(--fill-color);\n",
              "    }\n",
              "    20% {\n",
              "      border-color: transparent;\n",
              "      border-left-color: var(--fill-color);\n",
              "      border-top-color: var(--fill-color);\n",
              "    }\n",
              "    30% {\n",
              "      border-color: transparent;\n",
              "      border-left-color: var(--fill-color);\n",
              "      border-top-color: var(--fill-color);\n",
              "      border-right-color: var(--fill-color);\n",
              "    }\n",
              "    40% {\n",
              "      border-color: transparent;\n",
              "      border-right-color: var(--fill-color);\n",
              "      border-top-color: var(--fill-color);\n",
              "    }\n",
              "    60% {\n",
              "      border-color: transparent;\n",
              "      border-right-color: var(--fill-color);\n",
              "    }\n",
              "    80% {\n",
              "      border-color: transparent;\n",
              "      border-right-color: var(--fill-color);\n",
              "      border-bottom-color: var(--fill-color);\n",
              "    }\n",
              "    90% {\n",
              "      border-color: transparent;\n",
              "      border-bottom-color: var(--fill-color);\n",
              "    }\n",
              "  }\n",
              "</style>\n",
              "\n",
              "      <script>\n",
              "        async function quickchart(key) {\n",
              "          const quickchartButtonEl =\n",
              "            document.querySelector('#' + key + ' button');\n",
              "          quickchartButtonEl.disabled = true;  // To prevent multiple clicks.\n",
              "          quickchartButtonEl.classList.add('colab-df-spinner');\n",
              "          try {\n",
              "            const charts = await google.colab.kernel.invokeFunction(\n",
              "                'suggestCharts', [key], {});\n",
              "          } catch (error) {\n",
              "            console.error('Error during call to suggestCharts:', error);\n",
              "          }\n",
              "          quickchartButtonEl.classList.remove('colab-df-spinner');\n",
              "          quickchartButtonEl.classList.add('colab-df-quickchart-complete');\n",
              "        }\n",
              "        (() => {\n",
              "          let quickchartButtonEl =\n",
              "            document.querySelector('#df-4cca7877-05fb-4d18-bfbb-d64f52324fd9 button');\n",
              "          quickchartButtonEl.style.display =\n",
              "            google.colab.kernel.accessAllowed ? 'block' : 'none';\n",
              "        })();\n",
              "      </script>\n",
              "    </div>\n",
              "\n",
              "  <div id=\"id_9f46f51a-5e58-4114-a7fb-5121f541d490\">\n",
              "    <style>\n",
              "      .colab-df-generate {\n",
              "        background-color: #E8F0FE;\n",
              "        border: none;\n",
              "        border-radius: 50%;\n",
              "        cursor: pointer;\n",
              "        display: none;\n",
              "        fill: #1967D2;\n",
              "        height: 32px;\n",
              "        padding: 0 0 0 0;\n",
              "        width: 32px;\n",
              "      }\n",
              "\n",
              "      .colab-df-generate:hover {\n",
              "        background-color: #E2EBFA;\n",
              "        box-shadow: 0px 1px 2px rgba(60, 64, 67, 0.3), 0px 1px 3px 1px rgba(60, 64, 67, 0.15);\n",
              "        fill: #174EA6;\n",
              "      }\n",
              "\n",
              "      [theme=dark] .colab-df-generate {\n",
              "        background-color: #3B4455;\n",
              "        fill: #D2E3FC;\n",
              "      }\n",
              "\n",
              "      [theme=dark] .colab-df-generate:hover {\n",
              "        background-color: #434B5C;\n",
              "        box-shadow: 0px 1px 3px 1px rgba(0, 0, 0, 0.15);\n",
              "        filter: drop-shadow(0px 1px 2px rgba(0, 0, 0, 0.3));\n",
              "        fill: #FFFFFF;\n",
              "      }\n",
              "    </style>\n",
              "    <button class=\"colab-df-generate\" onclick=\"generateWithVariable('df')\"\n",
              "            title=\"Generate code using this dataframe.\"\n",
              "            style=\"display:none;\">\n",
              "\n",
              "  <svg xmlns=\"http://www.w3.org/2000/svg\" height=\"24px\"viewBox=\"0 0 24 24\"\n",
              "       width=\"24px\">\n",
              "    <path d=\"M7,19H8.4L18.45,9,17,7.55,7,17.6ZM5,21V16.75L18.45,3.32a2,2,0,0,1,2.83,0l1.4,1.43a1.91,1.91,0,0,1,.58,1.4,1.91,1.91,0,0,1-.58,1.4L9.25,21ZM18.45,9,17,7.55Zm-12,3A5.31,5.31,0,0,0,4.9,8.1,5.31,5.31,0,0,0,1,6.5,5.31,5.31,0,0,0,4.9,4.9,5.31,5.31,0,0,0,6.5,1,5.31,5.31,0,0,0,8.1,4.9,5.31,5.31,0,0,0,12,6.5,5.46,5.46,0,0,0,6.5,12Z\"/>\n",
              "  </svg>\n",
              "    </button>\n",
              "    <script>\n",
              "      (() => {\n",
              "      const buttonEl =\n",
              "        document.querySelector('#id_9f46f51a-5e58-4114-a7fb-5121f541d490 button.colab-df-generate');\n",
              "      buttonEl.style.display =\n",
              "        google.colab.kernel.accessAllowed ? 'block' : 'none';\n",
              "\n",
              "      buttonEl.onclick = () => {\n",
              "        google.colab.notebook.generateWithVariable('df');\n",
              "      }\n",
              "      })();\n",
              "    </script>\n",
              "  </div>\n",
              "\n",
              "    </div>\n",
              "  </div>\n"
            ],
            "application/vnd.google.colaboratory.intrinsic+json": {
              "type": "dataframe",
              "variable_name": "df",
              "summary": "{\n  \"name\": \"df\",\n  \"rows\": 3,\n  \"fields\": [\n    {\n      \"column\": \"Laptop\",\n      \"properties\": {\n        \"dtype\": \"string\",\n        \"num_unique_values\": 3,\n        \"samples\": [\n          47000,\n          350,\n          \"Electronics\"\n        ],\n        \"semantic_type\": \"\",\n        \"description\": \"\"\n      }\n    },\n    {\n      \"column\": \"Mouse\",\n      \"properties\": {\n        \"dtype\": \"string\",\n        \"num_unique_values\": 3,\n        \"samples\": [\n          4000,\n          500,\n          \"Accessories\"\n        ],\n        \"semantic_type\": \"\",\n        \"description\": \"\"\n      }\n    }\n  ]\n}"
            }
          },
          "metadata": {},
          "execution_count": 5
        }
      ]
    },
    {
      "cell_type": "code",
      "source": [
        "# sets\n",
        "\n",
        "my_set = {1, 2, 3, 4, 5}\n",
        "print(my_set)"
      ],
      "metadata": {
        "colab": {
          "base_uri": "https://localhost:8080/"
        },
        "id": "7EZEEb7hHsco",
        "outputId": "aa7aaec6-a3ec-40e7-d3df-78b33f36a675"
      },
      "execution_count": null,
      "outputs": [
        {
          "output_type": "stream",
          "name": "stdout",
          "text": [
            "{1, 2, 3, 4, 5}\n"
          ]
        }
      ]
    },
    {
      "cell_type": "code",
      "source": [
        "# adding items to a set\n",
        "\n",
        "my_set.add(6)\n",
        "print(my_set)"
      ],
      "metadata": {
        "colab": {
          "base_uri": "https://localhost:8080/"
        },
        "id": "ZaxDEC1_IF3h",
        "outputId": "e48fb34a-52cc-49cc-91cc-4e11b263ad0f"
      },
      "execution_count": null,
      "outputs": [
        {
          "output_type": "stream",
          "name": "stdout",
          "text": [
            "{1, 2, 3, 4, 5, 6}\n"
          ]
        }
      ]
    },
    {
      "cell_type": "code",
      "source": [
        "list_numbers = [1,2,3,4,4,4,5,6,7,7,8,9,9,9,9,9]\n",
        "print(f\"The list: {list_numbers}\")\n",
        "\n",
        "unique_numbers = set(list_numbers)\n",
        "print(f\"The set: {unique_numbers}\")"
      ],
      "metadata": {
        "colab": {
          "base_uri": "https://localhost:8080/"
        },
        "id": "gMtjiV-lIqcu",
        "outputId": "31de5472-fbcf-4f0e-e7c1-14e7a9c77a2d"
      },
      "execution_count": null,
      "outputs": [
        {
          "output_type": "stream",
          "name": "stdout",
          "text": [
            "The list: [1, 2, 3, 4, 4, 4, 5, 6, 7, 7, 8, 9, 9, 9, 9, 9]\n",
            "The set: {1, 2, 3, 4, 5, 6, 7, 8, 9}\n"
          ]
        }
      ]
    },
    {
      "cell_type": "markdown",
      "source": [
        "#### Defining and Calling Functions"
      ],
      "metadata": {
        "id": "5EEWEzzTJ69W"
      }
    },
    {
      "cell_type": "code",
      "source": [
        "# functions are reusable blocks of code\n",
        "# we use functions for certain or specific tasks\n",
        "\n",
        "def add_numbers (a, b): # arguments\n",
        "  # parameters\n",
        "  return a + b # return\n",
        "\n",
        "result = add_numbers (30,50)\n",
        "print (result)"
      ],
      "metadata": {
        "colab": {
          "base_uri": "https://localhost:8080/"
        },
        "id": "8cvZgn-IJ1VR",
        "outputId": "ece46946-37b7-4d29-922d-6dadc4ac7190"
      },
      "execution_count": null,
      "outputs": [
        {
          "output_type": "stream",
          "name": "stdout",
          "text": [
            "80\n"
          ]
        }
      ]
    },
    {
      "cell_type": "code",
      "source": [
        "# Challenge\n",
        "# write a function that gets the average of a list of numbers\n",
        "\n",
        "def get_average(numbers):\n",
        "  if len(numbers) == 0:\n",
        "    return 0\n",
        "  return sum(numbers)/len(numbers)\n",
        "\n",
        "# writing a list\n",
        "my_list = [10,20,30,40,50]\n",
        "get_average(my_list)"
      ],
      "metadata": {
        "id": "3NI3iPwCMHKU",
        "colab": {
          "base_uri": "https://localhost:8080/"
        },
        "outputId": "c9facba9-97fd-406f-eadd-674e1de3d216"
      },
      "execution_count": null,
      "outputs": [
        {
          "output_type": "execute_result",
          "data": {
            "text/plain": [
              "30.0"
            ]
          },
          "metadata": {},
          "execution_count": 3
        }
      ]
    },
    {
      "cell_type": "code",
      "source": [
        "# Challenge\n",
        "# write a function that solves the quadratic equation\n",
        "# ax^2 + bx + c\n",
        "# x = (-b +- sqrt(b^2 - 4ac )) / 2a\n",
        "# library is a set/collection of functions that perform\n",
        "# tasks relating to a certain\n",
        "# the math library has functions that solve math problems\n",
        "\n",
        "import math\n",
        "def quadratic_equation( ):\n",
        "  a = int(input(\"Enter the value of a:\"))\n",
        "  b = int(input(\"Enter the value of b:\"))\n",
        "  c = int(input(\"Enter the value of c:\"))\n",
        "\n",
        "  if a == 0:\n",
        "    print(\"For a quadratic equation the value of a cannot be zero\")\n",
        "    return\n",
        "  else:\n",
        "    square_part = b**2 - 4*a*c\n",
        "    if square_part < 0:\n",
        "      print (\"No real solution\")\n",
        "      return\n",
        "    else:\n",
        "      x1 = (-b + math.sqrt(square_part))/ (2 * a)\n",
        "      x2 = (-b - math.sqrt(square_part))/ (2 * a)\n",
        "      return x1, x2\n",
        "\n",
        "quadratic_equation()"
      ],
      "metadata": {
        "id": "DNiVZ3gOMNl7",
        "colab": {
          "base_uri": "https://localhost:8080/"
        },
        "outputId": "d72dd93a-0c5a-4944-e5fe-05d45df53e95"
      },
      "execution_count": null,
      "outputs": [
        {
          "output_type": "stream",
          "name": "stdout",
          "text": [
            "Enter the value of a:1\n",
            "Enter the value of b:1\n",
            "Enter the value of c:1\n",
            "No real solution\n"
          ]
        }
      ]
    },
    {
      "cell_type": "code",
      "source": [
        "# Challenge\n",
        "# in the previous example, provide conditions for user input\n",
        "# that is not a number"
      ],
      "metadata": {
        "id": "hzPg_42uMhrf"
      },
      "execution_count": null,
      "outputs": []
    },
    {
      "cell_type": "code",
      "source": [
        "# Challenge\n",
        "# write a function that gives us the maximum number in a list of numbers"
      ],
      "metadata": {
        "id": "9rWLO7kwaG2d"
      },
      "execution_count": null,
      "outputs": []
    },
    {
      "cell_type": "code",
      "source": [
        "# Challenge\n",
        "# write a function that gives us the minimum number in a list of numbers"
      ],
      "metadata": {
        "id": "ulFBx0lOaNzo"
      },
      "execution_count": null,
      "outputs": []
    },
    {
      "cell_type": "code",
      "source": [
        "# Challenge\n",
        "# write a function that gives us the number of occurences of an item in a list"
      ],
      "metadata": {
        "id": "4mZ26JTXaTRD"
      },
      "execution_count": null,
      "outputs": []
    },
    {
      "cell_type": "code",
      "source": [
        "# Challenge\n",
        "# write a function that gives us the frequency distribution of items in a list\n",
        "\n",
        "def frequency_distribution(items):\n",
        "  freq_dist = {}\n",
        "  for item in items:\n",
        "    if item in freq_dist:\n",
        "      freq_dist[item] += 1\n",
        "    else:\n",
        "      freq_dist[item] = 1\n",
        "  return freq_dist"
      ],
      "metadata": {
        "id": "xFAu9F0Vaizg"
      },
      "execution_count": null,
      "outputs": []
    },
    {
      "cell_type": "code",
      "source": [
        "my_list = [\n",
        "    \"apple\", \"banana\", \"apple\",\"apple\",\n",
        "    \"orange\",\"banana\",\"banana\",\"orange\",\n",
        "    \"orange\",\"banana\",\"apple\",\"banana\"\n",
        "    ]\n",
        "\n",
        "print (frequency_distribution(my_list))"
      ],
      "metadata": {
        "colab": {
          "base_uri": "https://localhost:8080/"
        },
        "id": "hJM3lXxRPoFY",
        "outputId": "3280a8be-3a85-4077-b91f-e75a6d4f3fdd"
      },
      "execution_count": null,
      "outputs": [
        {
          "output_type": "stream",
          "name": "stdout",
          "text": [
            "{'apple': 4, 'banana': 5, 'orange': 3}\n"
          ]
        }
      ]
    },
    {
      "cell_type": "code",
      "source": [
        "print (frequency_distribution(my_list))"
      ],
      "metadata": {
        "colab": {
          "base_uri": "https://localhost:8080/"
        },
        "id": "6NisnPLcUymp",
        "outputId": "2a406495-27e2-4884-c85a-50f8207f07be"
      },
      "execution_count": null,
      "outputs": [
        {
          "output_type": "stream",
          "name": "stdout",
          "text": [
            "{'apple': 4, 'banana': 5, 'orange': 3}\n"
          ]
        }
      ]
    },
    {
      "cell_type": "code",
      "source": [
        "quadratic_equation()"
      ],
      "metadata": {
        "colab": {
          "base_uri": "https://localhost:8080/"
        },
        "id": "_yIhof62VJft",
        "outputId": "7f3ac885-e6ff-4f01-c2a8-3a91d0698f58"
      },
      "execution_count": null,
      "outputs": [
        {
          "name": "stdout",
          "output_type": "stream",
          "text": [
            "Enter the value of a:1\n",
            "Enter the value of b:-1\n",
            "Enter the value of c:-1\n"
          ]
        },
        {
          "output_type": "execute_result",
          "data": {
            "text/plain": [
              "(1.618033988749895, -0.6180339887498949)"
            ]
          },
          "metadata": {},
          "execution_count": 6
        }
      ]
    },
    {
      "cell_type": "code",
      "source": [
        "from collections import Counter\n",
        "\n",
        "def frequency_distribution2(items):\n",
        "  return dict(Counter(items))"
      ],
      "metadata": {
        "id": "EXSm_0KNXObf"
      },
      "execution_count": null,
      "outputs": []
    },
    {
      "cell_type": "code",
      "source": [
        "frequency_distribution2(my_list)"
      ],
      "metadata": {
        "colab": {
          "base_uri": "https://localhost:8080/"
        },
        "id": "QuwIye36Y_kb",
        "outputId": "9bb4a133-8fcf-43a7-bae9-cbfde78a5bfc"
      },
      "execution_count": null,
      "outputs": [
        {
          "output_type": "execute_result",
          "data": {
            "text/plain": [
              "{'apple': 4, 'banana': 5, 'orange': 3}"
            ]
          },
          "metadata": {},
          "execution_count": 13
        }
      ]
    },
    {
      "cell_type": "code",
      "source": [
        "# Challenge\n",
        "# make a function that counts word frequencies in\n",
        "# in a given text\n",
        "\n",
        "\"Hello, this is my data science class. data, data, science\""
      ],
      "metadata": {
        "id": "kUdh-stRaL2S"
      },
      "execution_count": null,
      "outputs": []
    },
    {
      "cell_type": "code",
      "source": [
        "# Challenge\n",
        "# write a function that detects an outlier\n",
        "\n",
        "data = [1,2,3,10,11,5,6,700, 4, 3, 5]"
      ],
      "metadata": {
        "id": "VAoo_H3waerM"
      },
      "execution_count": null,
      "outputs": []
    },
    {
      "cell_type": "code",
      "source": [
        "# a function that visualizes data in a plot\n",
        "\n",
        "def simple_plot (x , y, title= \"Plot\"):\n",
        "  import matplotlib.pyplot as plt\n",
        "  plt.plot(x,y)\n",
        "  plt.title(title)\n",
        "  plt.show()\n",
        "\n",
        "x = [1, 2, 3, 4 , 5]\n",
        "y = [1, 4, 9, 16, 25]\n",
        "simple_plot(x,y)"
      ],
      "metadata": {
        "colab": {
          "base_uri": "https://localhost:8080/",
          "height": 452
        },
        "id": "W_y-GyGla0Be",
        "outputId": "bf132289-86ae-41a5-e640-8d647fddff16"
      },
      "execution_count": null,
      "outputs": [
        {
          "output_type": "display_data",
          "data": {
            "text/plain": [
              "<Figure size 640x480 with 1 Axes>"
            ],
            "image/png": "[encoded data removed]"
          },
          "metadata": {}
        }
      ]
    }
  ]
}